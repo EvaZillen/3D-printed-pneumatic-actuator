{
 "cells": [
  {
   "cell_type": "markdown",
   "id": "colored-parks",
   "metadata": {},
   "source": [
    "# Definitions"
   ]
  },
  {
   "cell_type": "markdown",
   "id": "dominant-trout",
   "metadata": {},
   "source": [
    "## Imports"
   ]
  },
  {
   "cell_type": "code",
   "execution_count": 5,
   "id": "private-algebra",
   "metadata": {},
   "outputs": [],
   "source": [
    "import numpy as np\n",
    "import math\n",
    "from sympy import symbols, Eq, solve, pi"
   ]
  },
  {
   "cell_type": "markdown",
   "id": "civil-construction",
   "metadata": {},
   "source": [
    "## Functions"
   ]
  },
  {
   "cell_type": "code",
   "execution_count": null,
   "id": "accepted-legislation",
   "metadata": {},
   "outputs": [],
   "source": [
    "def bereken_inkeping(inner_diameter_o_ring,section_o_ring,clearance,squeeze_ratio):\n",
    "\n",
    "    outer_diameter_o_ring = inner_diameter_o_ring+2*section_o_ring\n",
    "    inner_diameter_cylinder = outer_diameter_o_ring\n",
    "    outer_diameter_piston = inner_diameter_cylinder - 2*clearance\n",
    "\n",
    "    section_o_ring_squeezed = (1-squeeze_ratio) * section_o_ring\n",
    "    depth_notch = section_o_ring_squeezed-clearance\n",
    "    width_notch = section_o_ring + 1\n",
    "    return f'\\nInner diameter cylinder:{inner_diameter_cylinder} mm \\nOuter diameter piston:{outer_diameter_piston} mm \\nDepth notch:{depth_notch} mm \\nWidth notch:{width_notch} mm'\n",
    "\n",
    "\n",
    "def berekenen_diameter(force,pressure_bar):\n",
    "    pressure=pressure_bar*100000\n",
    "    effective_piston_area_meter_squared=force/pressure\n",
    "    effective_piston_area=effective_piston_area_meter_squared*10000\n",
    "    straal=math.sqrt(effective_piston_area_meter_squared/math.pi)\n",
    "    diameter_cylinder=2*straal * 1000\n",
    "    return f'\\nPressure:{pressure_bar} bar \\nForce:{force} N \\nPiston area:{effective_piston_area} mm^2 \\nDiameter piston:{round(diameter_cylinder,3)} mm \\n'\n"
   ]
  },
  {
   "cell_type": "markdown",
   "id": "apart-perry",
   "metadata": {},
   "source": [
    "# Berekeningen"
   ]
  },
  {
   "cell_type": "markdown",
   "id": "reverse-beginning",
   "metadata": {},
   "source": [
    "## Bepaling afmetingen cilinder"
   ]
  },
  {
   "cell_type": "code",
   "execution_count": null,
   "id": "imposed-capacity",
   "metadata": {},
   "outputs": [],
   "source": [
    "print(\"Afmetingen cilinder:\", berekenen_diameter(500,10))"
   ]
  },
  {
   "cell_type": "markdown",
   "id": "million-denmark",
   "metadata": {},
   "source": [
    "## Inkepingen afdichtingen"
   ]
  },
  {
   "cell_type": "markdown",
   "id": "blocked-recycling",
   "metadata": {},
   "source": [
    "### Single acting\n",
    "#### Merkel zuigerafdichting NAP 310\n",
    "Zie document\n",
    "#### Merkel zuigerafdichting NAPN\n",
    "Zie document"
   ]
  },
  {
   "cell_type": "markdown",
   "id": "reported-notification",
   "metadata": {},
   "source": [
    "### Double acting\n",
    "#### Freudenberg Compactafdichting KDN NBR708\n",
    "Zie document\n",
    "#### Merkel zuigerafdichting Airzet PK\n",
    "Zie document"
   ]
  },
  {
   "cell_type": "markdown",
   "id": "stock-violin",
   "metadata": {},
   "source": [
    "#### O-ring Lidl, SLA print"
   ]
  },
  {
   "cell_type": "code",
   "execution_count": null,
   "id": "indirect-bible",
   "metadata": {},
   "outputs": [],
   "source": [
    "print (\"O-ring Lidl, 18*3.5\")\n",
    "print(bereken_inkeping(18,3.5,0.5,0.1))\n",
    "# binnen diameter oring, snoerdikte, speling tussen cilinder en piston, squeeze ratio"
   ]
  },
  {
   "cell_type": "markdown",
   "id": "moderate-albania",
   "metadata": {},
   "source": [
    "#### O-ring en X-ring Eriks"
   ]
  },
  {
   "cell_type": "code",
   "execution_count": null,
   "id": "regulated-slope",
   "metadata": {
    "scrolled": true
   },
   "outputs": [],
   "source": [
    "print (\"O-ring en X-ring Eriks, 18.64*3.53\") \n",
    "print(bereken_inkeping(18.64,3.53,0.5,0.1))\n",
    "# binnen diameter oring, snoerdikte, speling tussen cilinder en piston, squeeze ratio"
   ]
  },
  {
   "cell_type": "markdown",
   "id": "superb-throat",
   "metadata": {},
   "source": [
    "## non-cylindrische zuiger"
   ]
  },
  {
   "cell_type": "code",
   "execution_count": null,
   "id": "gentle-filename",
   "metadata": {},
   "outputs": [],
   "source": [
    "# inwendige_diameter = 30\n",
    "# snoerdikte = 3\n",
    "# d = 13\n",
    "# buitendiameter_oring = inwendige_diameter+2*snoerdikte\n",
    "# om = math.pi*buitendiameter_oring\n",
    "# opp = math.pi*(25/2)**2\n",
    "# r = ((d**2*(om-math.pi*d))-math.pi*d*(opp-math.pi*(d/2)**2))/((2*math.pi*opp-2*math.pi**2*(d/2)**2)-2*d*om+2*math.pi*d**2)\n",
    "# # hoek = ((opp - math.pi*(d/2)**2)*360)/(math.pi*(r+d)**2-math.pi*(r)**2)"
   ]
  },
  {
   "cell_type": "code",
   "execution_count": null,
   "id": "6b87e07c",
   "metadata": {},
   "outputs": [],
   "source": [
    "# omtrek = (math.pi*dikte) + (2*math.pi*ronding + 2*math.pi*(ronding+dikte))/360*hoek\n",
    "# oppervlakte = math.pi*(dikte/2)**2 + (math.pi*(ronding+dikte)**2-math.pi*(ronding)**2)/360*hoek"
   ]
  },
  {
   "cell_type": "code",
   "execution_count": null,
   "id": "033732ab",
   "metadata": {},
   "outputs": [],
   "source": [
    "# r"
   ]
  },
  {
   "cell_type": "code",
   "execution_count": null,
   "id": "6c43eadf",
   "metadata": {},
   "outputs": [],
   "source": [
    "# oppervlakte = math.pi*(25/2)**2\n",
    "# inwendige_diameter = 23\n",
    "# snoerdikte=3.5\n",
    "# buitendiameter_oring = inwendige_diameter+2*snoerdikte\n",
    "# omtrek = math.pi*buitendiameter_oring"
   ]
  },
  {
   "cell_type": "code",
   "execution_count": null,
   "id": "a34516e7",
   "metadata": {},
   "outputs": [],
   "source": [
    "# #BEKENDEN\n",
    "# #Variabelen O-ring - deze kies ik uit, dus bekend\n",
    "# inwendige_diameter = 23\n",
    "# snoerdikte = 3.5\n",
    "# buitendiameter_oring = inwendige_diameter+2*snoerdikte\n",
    "# om = math.pi*buitendiameter_oring\n",
    "# #Oppervlakte zuiger - bekend\n",
    "# opp = math.pi*(25/2)**2\n",
    "# #dikte - deze stel ik in als input, dus bekend\n",
    "\n",
    "# # h = 100\n",
    "\n",
    "# #ONBEKENDEN\n",
    "# #h & r\n",
    "\n",
    "# #FORMULES\n",
    "# # om = (math.pi*d) + (2*math.pi*r + 2*math.pi*(r+d))/360*h\n",
    "# # opp = math.pi*(d/2)**2 + (math.pi*(r+d)**2-math.pi*(r)**2)/360*h"
   ]
  },
  {
   "cell_type": "markdown",
   "id": "7c455250",
   "metadata": {},
   "source": [
    "## Ovaal"
   ]
  },
  {
   "cell_type": "code",
   "execution_count": null,
   "id": "21bd8838",
   "metadata": {},
   "outputs": [],
   "source": [
    " def ovaal(inwendige_diameter,snoerdikte):\n",
    "    L = symbols('L')\n",
    "    opp = 0\n",
    "    D = 0\n",
    "    \n",
    "    gewenste_opp = math.pi*(25/2)**2 \n",
    "    buitendiameter_oring = inwendige_diameter+2*snoerdikte\n",
    "    om = math.pi*buitendiameter_oring\n",
    "    \n",
    "    for i in np.arange(5,20,0.1):\n",
    "        previous_opp = opp\n",
    "        previous_L = L\n",
    "        previous_D = D\n",
    "\n",
    "        L = symbols('L')\n",
    "        D = round(i,2)\n",
    "\n",
    "        eq1 = (math.pi*D) + 2*L - om\n",
    "        result = solve((eq1), (L))\n",
    "#         print(f\"Result for D = {d} is: {result}\")\n",
    "\n",
    "        L = result[0]\n",
    "\n",
    "        opp = math.pi*(D/2)**2 + L*D\n",
    "        if previous_opp <= gewenste_opp and opp >= gewenste_opp:\n",
    "            print(f\"Eerste ronde: opp={previous_opp} met D={previous_D} en L={previous_L} ligt het dichtst bij de gewenste oppervlakte van {gewenste_opp}\")\n",
    "            break\n",
    "            \n",
    "    for i in np.arange(previous_D-1,previous_D+1,0.001):\n",
    "        previous_opp = opp\n",
    "        previous_L = L\n",
    "        previous_D = D\n",
    "\n",
    "        L = symbols('L')\n",
    "        D = round(i,4)\n",
    "\n",
    "        eq1 = (math.pi*D) + 2*L - om\n",
    "        result = solve((eq1), (L))\n",
    "#         print(f\"Result for d = {d} is: {result}\")\n",
    "\n",
    "        L = result[0]\n",
    "\n",
    "        opp = math.pi*(D/2)**2 + L*D\n",
    "        if previous_opp <= gewenste_opp and opp >= gewenste_opp:\n",
    "            print(f\"Tweede ronde: opp={previous_opp} met D={previous_D} en L={previous_L} ligt het dichtst bij de gewenste oppervlakte van {gewenste_opp}\")\n",
    "            break\n",
    "    return previous_D,previous_L\n"
   ]
  },
  {
   "cell_type": "code",
   "execution_count": null,
   "id": "c768e6c7",
   "metadata": {
    "scrolled": true
   },
   "outputs": [],
   "source": [
    "inwendige_diameter = 22\n",
    "snoerdikte = 3.5\n",
    "D, L = ovaal(inwendige_diameter,snoerdikte)\n",
    "print(D,L)\n"
   ]
  },
  {
   "cell_type": "markdown",
   "id": "df23c3d3",
   "metadata": {},
   "source": [
    "## Nier vormig"
   ]
  },
  {
   "cell_type": "code",
   "execution_count": 20,
   "id": "02836d57",
   "metadata": {
    "scrolled": true
   },
   "outputs": [],
   "source": [
    "def optimize_range(inwendige_diameter,snoerdikte, h):\n",
    "    r = symbols('r')\n",
    "    opp = 0\n",
    "    d = 0\n",
    "    \n",
    "    gewenste_opp = math.pi*(25/2)**2 \n",
    "    buitendiameter_oring = inwendige_diameter+2*snoerdikte\n",
    "    om = math.pi*buitendiameter_oring\n",
    "    \n",
    "    # First round\n",
    "    for i in np.arange(5,20,0.1):\n",
    "        previous_opp = opp\n",
    "        previous_r = r\n",
    "        previous_d = d\n",
    "\n",
    "        r = symbols('r')\n",
    "        d = round(i,2)\n",
    "\n",
    "        eq1 = (math.pi*d) + ((2*math.pi*r + 2*math.pi*(r+d))/360)*h - om\n",
    "        result = solve((eq1), (r))\n",
    "#         print(f\"Result for d = {d} is: {result}\")\n",
    "\n",
    "        r = result[0]\n",
    "\n",
    "        opp = math.pi*(d/2)**2 + (math.pi*(r+d)**2-math.pi*(r)**2)/360*h\n",
    "        if previous_opp <= gewenste_opp and opp >= gewenste_opp:\n",
    "            print(f\"Eerste ronde: opp={previous_opp} met d={previous_d} en r={previous_r} ligt het dichtst bij de gewenste oppervlakte van {gewenste_opp}\")\n",
    "            break\n",
    "            \n",
    "    # Second round\n",
    "    for i in np.arange(previous_d-1,previous_d+1,0.001):\n",
    "        previous_opp = opp\n",
    "        previous_r = r\n",
    "        previous_d = d\n",
    "\n",
    "        r = symbols('r')\n",
    "        d = round(i,4)\n",
    "\n",
    "        eq1 = (math.pi*d) + ((2*math.pi*r + 2*math.pi*(r+d))/360)*h - om\n",
    "        result = solve((eq1), (r))\n",
    "#         print(f\"Result for d = {d} is: {result}\")\n",
    "\n",
    "        r = result[0]\n",
    "\n",
    "        opp = math.pi*(d/2)**2 + (math.pi*(r+d)**2-math.pi*(r)**2)/360*h\n",
    "        if previous_opp <= gewenste_opp and opp >= gewenste_opp:\n",
    "            print(f\"Tweede ronde: opp={previous_opp} met d={previous_d} en r={previous_r} ligt het dichtst bij de gewenste oppervlakte van {gewenste_opp}\")\n",
    "            break\n",
    "\n",
    "    print(f\"Oude omtrek:{om}\")\n",
    "    print(f\"Nieuwe omtrek:{math.pi*previous_d+((5/9)*math.pi)*(2*previous_r +previous_d)}\")\n",
    "    print(f\"Oude oppervlakte:{gewenste_opp}\")\n",
    "    print(f\"Nieuwe oppervlakte:{math.pi*(previous_d/2)**2+((5/9)*math.pi)*(previous_r*previous_d+(previous_d**2/2))}\")\n",
    "    \n",
    "    return previous_d,previous_r"
   ]
  },
  {
   "cell_type": "code",
   "execution_count": 21,
   "id": "de4a181d",
   "metadata": {},
   "outputs": [
    {
     "name": "stdout",
     "output_type": "stream",
     "text": [
      "Eerste ronde: opp=490.803166288699 met d=14.3 en r=6.07999999999998 ligt het dichtst bij de gewenste oppervlakte van 490.8738521234052\n",
      "Tweede ronde: opp=490.872431338128 met d=14.303 en r=6.07580000000000 ligt het dichtst bij de gewenste oppervlakte van 490.8738521234052\n",
      "Oude omtrek:91.106186954104\n",
      "Nieuwe omtrek:91.1061869541040\n",
      "Oude oppervlakte:490.8738521234052\n",
      "Nieuwe oppervlakte:490.872431338128\n",
      "14.303 6.07580000000000\n"
     ]
    }
   ],
   "source": [
    "inwendige_diameter = 22\n",
    "snoerdikte = 3.5\n",
    "h = 100\n",
    "d, r = optimize_range(inwendige_diameter,snoerdikte, h)\n",
    "print(d,r)"
   ]
  },
  {
   "cell_type": "code",
   "execution_count": null,
   "id": "245c8ea4",
   "metadata": {},
   "outputs": [],
   "source": [
    "math.pi*(previous_d/2)^2+(0.556*math.pi)*(previous_r*previous_d+(previous_d/2)^2)"
   ]
  },
  {
   "cell_type": "code",
   "execution_count": null,
   "id": "a9858d7a",
   "metadata": {},
   "outputs": [],
   "source": []
  }
 ],
 "metadata": {
  "kernelspec": {
   "display_name": "Python 3",
   "language": "python",
   "name": "python3"
  },
  "language_info": {
   "codemirror_mode": {
    "name": "ipython",
    "version": 3
   },
   "file_extension": ".py",
   "mimetype": "text/x-python",
   "name": "python",
   "nbconvert_exporter": "python",
   "pygments_lexer": "ipython3",
   "version": "3.8.2"
  }
 },
 "nbformat": 4,
 "nbformat_minor": 5
}

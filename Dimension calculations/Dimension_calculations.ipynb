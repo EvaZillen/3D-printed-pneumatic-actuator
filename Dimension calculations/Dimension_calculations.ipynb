{
 "cells": [
  {
   "cell_type": "markdown",
   "id": "colored-parks",
   "metadata": {},
   "source": [
    "# Definitions"
   ]
  },
  {
   "cell_type": "markdown",
   "id": "dominant-trout",
   "metadata": {},
   "source": [
    "## Imports"
   ]
  },
  {
   "cell_type": "code",
   "execution_count": 1,
   "id": "private-algebra",
   "metadata": {},
   "outputs": [],
   "source": [
    "import numpy as np\n",
    "import math\n",
    "from sympy import symbols, Eq, solve, pi"
   ]
  },
  {
   "cell_type": "markdown",
   "id": "civil-construction",
   "metadata": {},
   "source": [
    "## Functions"
   ]
  },
  {
   "cell_type": "code",
   "execution_count": 2,
   "id": "accepted-legislation",
   "metadata": {},
   "outputs": [],
   "source": [
    "def calculate_groove(inner_diameter_o_ring,section_o_ring,clearance,squeeze_ratio):\n",
    "    outer_diameter_o_ring = inner_diameter_o_ring+2*section_o_ring\n",
    "    inner_diameter_cylinder = outer_diameter_o_ring\n",
    "    outer_diameter_piston = inner_diameter_cylinder - 2*clearance\n",
    "\n",
    "    section_o_ring_squeezed = (1-squeeze_ratio) * section_o_ring\n",
    "    depth_notch = section_o_ring_squeezed-clearance\n",
    "    width_notch = section_o_ring + 1\n",
    "    return f'\\nInner diameter cylinder:{inner_diameter_cylinder} mm \\nOuter diameter piston:{outer_diameter_piston} mm \\nDepth notch:{depth_notch} mm \\nWidth notch:{width_notch} mm'"
   ]
  },
  {
   "cell_type": "markdown",
   "id": "df7e4e82",
   "metadata": {},
   "source": [
    "# Determining the dimensions of the O-ring groove "
   ]
  },
  {
   "cell_type": "markdown",
   "id": "stock-violin",
   "metadata": {},
   "source": [
    "#### O-ring Lidl, SLA print"
   ]
  },
  {
   "cell_type": "code",
   "execution_count": 3,
   "id": "indirect-bible",
   "metadata": {},
   "outputs": [
    {
     "name": "stdout",
     "output_type": "stream",
     "text": [
      "O-ring Lidl, 18*3.5\n",
      "\n",
      "Inner diameter cylinder:25.0 mm \n",
      "Outer diameter piston:24.0 mm \n",
      "Depth notch:2.65 mm \n",
      "Width notch:4.5 mm\n"
     ]
    }
   ],
   "source": [
    "diameter_oring = 18\n",
    "o_ring_thickness = 3.5\n",
    "clearance = 0.5\n",
    "squeeze_ratio = 0.1\n",
    "print (\"O-ring Lidl, 18*3.5\")\n",
    "print(calculate_groove(diameter_oring,o_ring_thickness,clearance,squeeze_ratio))"
   ]
  },
  {
   "cell_type": "markdown",
   "id": "moderate-albania",
   "metadata": {},
   "source": [
    "#### O-ring en X-ring Eriks"
   ]
  },
  {
   "cell_type": "code",
   "execution_count": 4,
   "id": "regulated-slope",
   "metadata": {
    "scrolled": false
   },
   "outputs": [
    {
     "name": "stdout",
     "output_type": "stream",
     "text": [
      "O-ring en X-ring Eriks, 18.64*3.53\n",
      "\n",
      "Inner diameter cylinder:25.7 mm \n",
      "Outer diameter piston:24.7 mm \n",
      "Depth notch:2.677 mm \n",
      "Width notch:4.529999999999999 mm\n"
     ]
    }
   ],
   "source": [
    "diameter_oring = 18.64\n",
    "o_ring_thickness = 3.53\n",
    "clearance = 0.5\n",
    "squeeze_ratio = 0.1\n",
    "print (\"O-ring en X-ring Eriks, 18.64*3.53\") \n",
    "print(calculate_groove(diameter_oring,o_ring_thickness,clearance,squeeze_ratio))"
   ]
  },
  {
   "cell_type": "markdown",
   "id": "0c557e98",
   "metadata": {},
   "source": [
    "# Determining the dimensions of the non-conventional cylinders"
   ]
  },
  {
   "cell_type": "markdown",
   "id": "7c455250",
   "metadata": {},
   "source": [
    "## Oval shape"
   ]
  },
  {
   "cell_type": "code",
   "execution_count": 5,
   "id": "21bd8838",
   "metadata": {},
   "outputs": [],
   "source": [
    "def ovaal(inner_diameter_o_ring,o_ring_thickness):\n",
    "    print(\"Calculating results for oval shape, this might take up to 30s\")\n",
    "    \n",
    "    # Define constants\n",
    "    L = symbols('L')\n",
    "    area = 0\n",
    "    D = 0\n",
    "    target_surface_area = math.pi*(25/2)**2 \n",
    "    outer_diameter_o_ring = inner_diameter_o_ring+2*o_ring_thickness\n",
    "    perimeter = math.pi*outer_diameter_o_ring\n",
    "\n",
    "    # To determine the dimensions as acurate as possible, we perform two iterations of optimizations\n",
    "    # First round\n",
    "    for i in np.arange(5,20,0.1):\n",
    "        # Define variables\n",
    "        previous_area = area\n",
    "        previous_L = L\n",
    "        previous_D = D\n",
    "        L = symbols('L')\n",
    "        D = round(i,2)\n",
    "\n",
    "        # Solve for the perimeter\n",
    "        perimeter_eq = (math.pi*D) + 2*L - perimeter\n",
    "        result = solve((perimeter_eq), (L))\n",
    "\n",
    "        L = result[0]\n",
    "        \n",
    "        # Applying the equation for the surface area\n",
    "        area = math.pi*(D/2)**2 + L*D\n",
    "        \n",
    "        # Finding the right value: if the surface area is larger than the target area, take the previous and continue\n",
    "        if previous_area <= target_surface_area and area >= target_surface_area:\n",
    "            print(f\"First round: area={previous_area} met D={previous_D} en L={previous_L} is closet to the target surface area of {target_surface_area}\")\n",
    "            break\n",
    "            \n",
    "    # Second round\n",
    "    for i in np.arange(previous_D-1,previous_D+1,0.001):\n",
    "        # Define variables\n",
    "        previous_area = area\n",
    "        previous_L = L\n",
    "        previous_D = D\n",
    "        L = symbols('L')\n",
    "        D = round(i,4)\n",
    "        \n",
    "        # Solve for the perimeter\n",
    "        perimeter_eq = (math.pi*D) + 2*L - perimeter\n",
    "        result = solve((perimeter_eq), (L))\n",
    "\n",
    "        L = result[0]\n",
    "        \n",
    "        # Applying the equation for the surface area\n",
    "        area = math.pi*(D/2)**2 + L*D\n",
    "        \n",
    "        # Finding the right value: if the surface area is larger than the target area, take the previous and stop\n",
    "        if previous_area <= target_surface_area and area >= target_surface_area:\n",
    "            print(f\"Second round: area={previous_area} met D={previous_D} en L={previous_L} is closet to the target surface area of {target_surface_area}\")\n",
    "            break\n",
    "            \n",
    "    return previous_D,previous_L\n"
   ]
  },
  {
   "cell_type": "code",
   "execution_count": 6,
   "id": "c768e6c7",
   "metadata": {
    "scrolled": true
   },
   "outputs": [
    {
     "name": "stdout",
     "output_type": "stream",
     "text": [
      "Calculating results for oval shape, this might take up to 30s\n",
      "First round: area=490.803166288700 met D=14.3 en L=23.0907060038850 is closet to the target surface area of 490.8738521234052\n",
      "Second round: area=490.872431338128 met D=14.303 en L=23.0859936149046 is closet to the target surface area of 490.8738521234052\n",
      "\n",
      "--------------------------------------\n",
      "Resulting values for an oval shape with O-ring of 22 x 3.5 mm\n",
      "D = 14.303\n",
      "L = 23.0859936149046\n",
      "--------------------------------------\n"
     ]
    }
   ],
   "source": [
    "# Example calculations for an O-ring of 22x3.5mm\n",
    "inner_diameter_o_ring = 22\n",
    "o_ring_thickness = 3.5\n",
    "D, L = ovaal(inner_diameter_o_ring,o_ring_thickness)\n",
    "print(f\"\\n--------------------------------------\")\n",
    "print(f\"Resulting values for an oval shape with O-ring of {inner_diameter_o_ring} x {o_ring_thickness} mm\")\n",
    "print(f\"D = {D}\")\n",
    "print(f\"L = {L}\")\n",
    "print(f\"--------------------------------------\")"
   ]
  },
  {
   "cell_type": "markdown",
   "id": "df23c3d3",
   "metadata": {},
   "source": [
    "## Kidney shape"
   ]
  },
  {
   "cell_type": "code",
   "execution_count": 7,
   "id": "02836d57",
   "metadata": {
    "scrolled": true
   },
   "outputs": [],
   "source": [
    "def optimize_range(inner_diameter_o_ring,o_ring_thickness, h):\n",
    "    print(\"Calculating results for kidney shape, this might take up to 60s\")\n",
    "    # Define constants\n",
    "    r = symbols('r')\n",
    "    area = 0\n",
    "    d = 0\n",
    "    target_surface_area = math.pi*(25/2)**2 \n",
    "    outer_diameter_o_ring = inner_diameter_o_ring+2*o_ring_thickness\n",
    "    perimeter = math.pi*outer_diameter_o_ring\n",
    "    \n",
    "    # To determine the dimensions as acurate as possible, we perform two iterations of optimizations\n",
    "    # First round\n",
    "    for i in np.arange(5,20,0.1):\n",
    "        # Define variables\n",
    "        previous_area = area\n",
    "        previous_r = r\n",
    "        previous_d = d\n",
    "        r = symbols('r')\n",
    "        d = round(i,2)\n",
    "\n",
    "        # Solve for the perimeter\n",
    "        perimeter_eq = math.pi*d+(gamma*(2*r +d)) - perimeter\n",
    "        result = solve((perimeter_eq), (r))\n",
    "\n",
    "        r = result[0]\n",
    "\n",
    "        # Applying the equation for the surface area\n",
    "        area = math.pi*(d/2)**2+(gamma*(r*d+(d**2/2)))\n",
    "        \n",
    "        # Finding the right value: if the surface area is larger than the target area, take the previous and continue\n",
    "        if previous_area <= target_surface_area and area >= target_surface_area:\n",
    "            print(f\"First round: area={previous_area} with d={previous_d} and r={previous_r} is closet to the target surface area of {target_surface_area}\")\n",
    "            break\n",
    "            \n",
    "    # Second round\n",
    "    for i in np.arange(previous_d-1,previous_d+1,0.001):\n",
    "        # Define variables\n",
    "        previous_area = area\n",
    "        previous_r = r\n",
    "        previous_d = d\n",
    "        r = symbols('r')\n",
    "        d = round(i,4)\n",
    "\n",
    "        # Solve for the perimeter\n",
    "        perimeter_eq = math.pi*d+(gamma*(2*r +d)) - perimeter\n",
    "        result = solve((perimeter_eq), (r))\n",
    "        \n",
    "        r = result[0]\n",
    "\n",
    "        # Applying the equation for the surface area\n",
    "        area = math.pi*(d/2)**2+(gamma*(r*d+(d**2/2)))\n",
    "        \n",
    "        # Finding the right value: if the surface area is larger than the target area, take the previous and stop\n",
    "        if previous_area <= target_surface_area and area >= target_surface_area:\n",
    "            print(f\"Second round: area={previous_area} met d={previous_d} en r={previous_r} is closet to the target surface area of {target_surface_area}\")\n",
    "            break\n",
    "    \n",
    "    return previous_d,previous_r"
   ]
  },
  {
   "cell_type": "code",
   "execution_count": 8,
   "id": "de4a181d",
   "metadata": {},
   "outputs": [
    {
     "name": "stdout",
     "output_type": "stream",
     "text": [
      "Calculating results for oval shape, this might take up to 60s\n",
      "First round: area=490.803166288700 with d=14.3 and r=6.08000000000001 is closet to the target surface area of 490.8738521234052\n",
      "Second round: area=490.872431338128 met d=14.303 en r=6.07580000000000 is closet to the target surface area of 490.8738521234052\n",
      "\n",
      "--------------------------------------\n",
      "Resulting values for a kidney shape with O-ring of 22 x 3.5 mm\n",
      "d = 14.303\n",
      "r = 6.07580000000000\n",
      "--------------------------------------\n"
     ]
    }
   ],
   "source": [
    "# Example calculations for an O-ring of 22x3.5mm\n",
    "inner_diameter_o_ring = 22\n",
    "o_ring_thickness = 3.5\n",
    "gamma = 100/180*math.pi\n",
    "\n",
    "d, r = optimize_range(inner_diameter_o_ring,o_ring_thickness, gamma)\n",
    "print(f\"\\n--------------------------------------\")\n",
    "print(f\"Resulting values for a kidney shape with O-ring of {inner_diameter_o_ring} x {o_ring_thickness} mm\")\n",
    "print(f\"d = {d}\")\n",
    "print(f\"r = {r}\")\n",
    "print(f\"--------------------------------------\")"
   ]
  },
  {
   "cell_type": "code",
   "execution_count": null,
   "id": "6b6f3860",
   "metadata": {},
   "outputs": [],
   "source": []
  }
 ],
 "metadata": {
  "kernelspec": {
   "display_name": "Python 3",
   "language": "python",
   "name": "python3"
  },
  "language_info": {
   "codemirror_mode": {
    "name": "ipython",
    "version": 3
   },
   "file_extension": ".py",
   "mimetype": "text/x-python",
   "name": "python",
   "nbconvert_exporter": "python",
   "pygments_lexer": "ipython3",
   "version": "3.8.2"
  }
 },
 "nbformat": 4,
 "nbformat_minor": 5
}

{
 "cells": [
  {
   "cell_type": "code",
   "execution_count": 1,
   "id": "ec2de4d4",
   "metadata": {},
   "outputs": [],
   "source": [
    "#!/usr/bin/env python\n",
    "# -*- coding: utf-8 -*-\n",
    "\n",
    "\"\"\"\n",
    "In this script, the results of the static leakage tests are visualised.\n",
    "All visualisations are stored in /figures/\n",
    "\n",
    "To show the visualisations in this Notebook, remove or comment plt.clf() after plt.savefig()\n",
    "\"\"\"\n",
    "\n",
    "__author__ = \"Eva Zillen\"\n",
    "__copyright__ = \"Copyright 2021, TU Delft Biomechanical Design\"\n",
    "__credits__ = [\"Eva Zillen, Heike Vallery, Gerwin Smit\"]\n",
    "__license__ = \"CC0-1.0 License\"\n",
    "__version__ = \"1.0.0\"\n",
    "__maintainer__ = \"Eva Zillen\"\n",
    "__email__ = \"e.zillen@student.tudelft.nl\""
   ]
  },
  {
   "cell_type": "markdown",
   "id": "ca026e0d",
   "metadata": {},
   "source": [
    "#### Imports"
   ]
  },
  {
   "cell_type": "code",
   "execution_count": 2,
   "id": "ac5ab237",
   "metadata": {},
   "outputs": [],
   "source": [
    "import math\n",
    "import pandas as pd\n",
    "import matplotlib.pyplot as plt\n",
    "import numpy as np"
   ]
  },
  {
   "cell_type": "markdown",
   "id": "fe57ff50",
   "metadata": {},
   "source": [
    "#### Global variables"
   ]
  },
  {
   "cell_type": "code",
   "execution_count": 3,
   "id": "501bdfc9",
   "metadata": {},
   "outputs": [],
   "source": [
    "# The models with different sealing mechanism used in this test\n",
    "rings = ['O-ring','NAPN','NAP310','PK','KDN','O-ring257','X-ring257']\n",
    "# The models with different cross-sectional shape used in this test\n",
    "shapes = ['Circle','Stadium','Kidney','Stadium_lc','Kidney_lc']\n",
    "# Remove first 15 data points to avoid deviating starting values\n",
    "drop_amount = 15 "
   ]
  },
  {
   "cell_type": "markdown",
   "id": "b1f14379",
   "metadata": {},
   "source": [
    "# Static leakage test"
   ]
  },
  {
   "cell_type": "code",
   "execution_count": 4,
   "id": "12cab0ab",
   "metadata": {},
   "outputs": [],
   "source": [
    "# Define a dictionary to store all data from the static tests\n",
    "# For each ring all variables are stored in this nested dictionary\n",
    "static_leakage = {}\n",
    "\n",
    "# For each model type\n",
    "for model in rings+shapes:\n",
    "    # Load the data of the corresponding results in .CSV and drop unncessary columns\n",
    "    model_df = pd.read_csv(f'./data/static/{model}.csv',delimiter='\\s+',header=None,names=(['Time','A','B','C','Laser(mm)','Pressure(bar)','Force(N)']))\n",
    "    model_df.drop(columns=['A','B','C'],index=model_df.index[range(drop_amount)],axis=1,inplace=True)\n",
    "    \n",
    "    # Store the data in our larger dictionary\n",
    "    static_leakage[model] = {}\n",
    "    # Filtering the data with a rolling window and sampling the data (in s)\n",
    "    static_leakage[model]['Time'] = model_df['Time'].head(130000).rolling(window=100).mean()[::1000]/1000\n",
    "    # Define the pressure drop by reducing each pressure value with the first pressure value (in bar)\n",
    "    static_leakage[model]['PressureDrop(bar)'] = model_df['Pressure(bar)'] - model_df['Pressure(bar)'][drop_amount]\n",
    "    # Filtering the pressure with a rolling window and sampling the data (in MPa)\n",
    "    static_leakage[model]['PressureDrop(bar)'] = static_leakage[model]['PressureDrop(bar)'].head(130000).rolling(window=100).mean()[::1000]/10\n",
    "    # Ensure the first value is equal to 0 to prevent NaN\n",
    "    static_leakage[model]['PressureDrop(bar)'][drop_amount] = 0"
   ]
  },
  {
   "cell_type": "markdown",
   "id": "ff0ce0e6",
   "metadata": {},
   "source": [
    "#### Static leakage plot 25mm"
   ]
  },
  {
   "cell_type": "code",
   "execution_count": 5,
   "id": "f4678519",
   "metadata": {
    "scrolled": false
   },
   "outputs": [
    {
     "data": {
      "text/plain": [
       "<Figure size 432x288 with 0 Axes>"
      ]
     },
     "metadata": {},
     "output_type": "display_data"
    }
   ],
   "source": [
    "plt.plot(static_leakage['O-ring']['Time'],static_leakage['O-ring']['PressureDrop(bar)'],'tab:blue',label='O-ring',linestyle='dotted',linewidth=3)    \n",
    "plt.plot(static_leakage['NAPN']['Time'],static_leakage['NAPN']['PressureDrop(bar)'],'tab:orange',label='NAPN',linestyle='dashdot')\n",
    "plt.plot(static_leakage['NAP310']['Time'],static_leakage['NAP310']['PressureDrop(bar)'],'tab:green',label='NAP310', linestyle=(0,(5,2,2)))\n",
    "plt.plot(static_leakage['PK']['Time'],static_leakage['PK']['PressureDrop(bar)'],'tab:red',label='PK',linestyle='dashed')\n",
    "plt.plot(static_leakage['KDN']['Time'],static_leakage['KDN']['PressureDrop(bar)'],'tab:purple',label='KDN')\n",
    "\n",
    "# Set the labels and save the figure\n",
    "plt.xlabel('Time (s)')\n",
    "plt.ylabel('Pressure drop(MPa)')\n",
    "plt.legend()\n",
    "plt.savefig('./figures/result_static_leakage_25mm.pdf',bbox_inches = 'tight')\n",
    "plt.clf()"
   ]
  },
  {
   "cell_type": "markdown",
   "id": "1fb55e36",
   "metadata": {},
   "source": [
    "#### Static leakage plot 25mm (without NAP310 for clarity)"
   ]
  },
  {
   "cell_type": "code",
   "execution_count": 6,
   "id": "c114d7fb",
   "metadata": {
    "scrolled": true
   },
   "outputs": [
    {
     "data": {
      "text/plain": [
       "<Figure size 432x288 with 0 Axes>"
      ]
     },
     "metadata": {},
     "output_type": "display_data"
    }
   ],
   "source": [
    "plt.plot(static_leakage['O-ring257']['Time'],static_leakage['O-ring257']['PressureDrop(bar)'],'tab:blue',alpha=0.25, linestyle='dotted',linewidth=3)\n",
    "plt.plot(static_leakage['X-ring257']['Time'],static_leakage['X-ring257']['PressureDrop(bar)'],'tab:brown',alpha=0.25, linestyle=(0,(5,2,2)))\n",
    "plt.plot(static_leakage['O-ring']['Time'],static_leakage['O-ring']['PressureDrop(bar)'],'tab:blue',label='O-ring',linestyle='dotted',linewidth=3)   \n",
    "plt.plot(static_leakage['NAPN']['Time'],static_leakage['NAPN']['PressureDrop(bar)'],'tab:orange',label='NAPN',linestyle='dashdot')\n",
    "plt.plot(static_leakage['PK']['Time'],static_leakage['PK']['PressureDrop(bar)'],'tab:red',label='PK',linestyle='dashed')\n",
    "plt.plot(static_leakage['KDN']['Time'],static_leakage['KDN']['PressureDrop(bar)'],'tab:purple',label='KDN')\n",
    "\n",
    "# Set the labels and save the figure\n",
    "plt.xlabel('Time (s)')\n",
    "plt.ylabel('Pressure drop(MPa)')\n",
    "plt.legend()\n",
    "plt.savefig('./figures/result_static_leakage_25mm_part.pdf',bbox_inches = 'tight')\n",
    "plt.clf()"
   ]
  },
  {
   "cell_type": "markdown",
   "id": "2f17a39a",
   "metadata": {},
   "source": [
    "#### Static leakage plot 25.7mm (without NAP310 for clarity)"
   ]
  },
  {
   "cell_type": "code",
   "execution_count": 7,
   "id": "2dec417e",
   "metadata": {
    "scrolled": true
   },
   "outputs": [
    {
     "data": {
      "text/plain": [
       "<Figure size 432x288 with 0 Axes>"
      ]
     },
     "metadata": {},
     "output_type": "display_data"
    }
   ],
   "source": [
    "plt.plot(static_leakage['O-ring']['Time'],static_leakage['O-ring']['PressureDrop(bar)'],'tab:blue',alpha=0.25, linestyle='dotted',linewidth=3)   \n",
    "plt.plot(static_leakage['NAPN']['Time'],static_leakage['NAPN']['PressureDrop(bar)'],'tab:orange',alpha=0.25, linestyle='dashdot')\n",
    "plt.plot(static_leakage['PK']['Time'],static_leakage['PK']['PressureDrop(bar)'],'tab:red',alpha=0.25,linestyle='dashed')\n",
    "plt.plot(static_leakage['KDN']['Time'],static_leakage['KDN']['PressureDrop(bar)'],'tab:purple',alpha=0.25)\n",
    "plt.plot(static_leakage['O-ring257']['Time'],static_leakage['O-ring257']['PressureDrop(bar)'],'tab:blue',label='O-ring',linestyle='dotted',linewidth=3)\n",
    "plt.plot(static_leakage['X-ring257']['Time'],static_leakage['X-ring257']['PressureDrop(bar)'],'tab:brown',label='X-ring', linestyle=(0,(5,2,2)))\n",
    "\n",
    "# Set the labels and save the figure\n",
    "plt.xlabel('Time (s)')\n",
    "plt.ylabel('Pressure drop (MPa)')\n",
    "plt.legend(loc=3)\n",
    "plt.savefig('./figures/result_static_leakage_257mm.pdf',bbox_inches = 'tight')\n",
    "plt.clf()"
   ]
  },
  {
   "cell_type": "markdown",
   "id": "60c803a7",
   "metadata": {},
   "source": [
    "#### Static leakage plot different shapes"
   ]
  },
  {
   "cell_type": "code",
   "execution_count": 8,
   "id": "874df719",
   "metadata": {
    "scrolled": false
   },
   "outputs": [
    {
     "data": {
      "text/plain": [
       "<Figure size 432x288 with 0 Axes>"
      ]
     },
     "metadata": {},
     "output_type": "display_data"
    }
   ],
   "source": [
    "plt.plot(static_leakage['Circle']['Time'],static_leakage['Circle']['PressureDrop(bar)'],'0.8',label='Circle', linestyle='dotted',linewidth=3)  \n",
    "plt.plot(static_leakage['Stadium']['Time'],static_leakage['Stadium']['PressureDrop(bar)'],'tab:olive',label='Stadium',linestyle='dashdot')\n",
    "plt.plot(static_leakage['Kidney']['Time'],static_leakage['Kidney']['PressureDrop(bar)'],'tab:cyan',label='Kidney')\n",
    "\n",
    "# Set the labels and save the figure\n",
    "plt.xlabel('Time (s)')\n",
    "plt.ylabel('Pressure drop (MPa)')\n",
    "plt.legend(loc=3)\n",
    "plt.savefig('./figures/result_static_leakage_shapes.pdf',bbox_inches = 'tight')\n",
    "plt.clf()"
   ]
  },
  {
   "cell_type": "markdown",
   "id": "0fb0d213",
   "metadata": {},
   "source": [
    "#### Static leakage plot different shapes with lower clearance"
   ]
  },
  {
   "cell_type": "code",
   "execution_count": 9,
   "id": "8ae5090a",
   "metadata": {},
   "outputs": [
    {
     "data": {
      "text/plain": [
       "<Figure size 432x288 with 0 Axes>"
      ]
     },
     "metadata": {},
     "output_type": "display_data"
    }
   ],
   "source": [
    "plt.plot(static_leakage['Stadium']['Time'],static_leakage['Stadium']['PressureDrop(bar)'],'tab:olive',alpha=0.5,label='Stadium 0.5 mm clearance',linestyle='dashdot')\n",
    "plt.plot(static_leakage['Kidney']['Time'],static_leakage['Kidney']['PressureDrop(bar)'],'tab:cyan',alpha=0.5,label='Kidney 0.5 mm clearance')\n",
    "plt.plot(static_leakage['Circle']['Time'],static_leakage['Circle']['PressureDrop(bar)'],'0.8',alpha=0.5,label='Circle 0.5 mm clearance', linestyle='dotted',linewidth=3)  \n",
    "plt.plot(static_leakage['Stadium_lc']['Time'],static_leakage['Stadium_lc']['PressureDrop(bar)'],'tab:olive',label='Stadium 0.2 mm clearance',linestyle='dashdot',linewidth=2)\n",
    "plt.plot(static_leakage['Kidney_lc']['Time'],static_leakage['Kidney_lc']['PressureDrop(bar)'],'tab:cyan',label='Kidney 0.2 mm clearance',linewidth=2)\n",
    "\n",
    "# Set the labels and save the figure\n",
    "plt.xlabel('Time (s)')\n",
    "plt.ylabel('Pressure drop (MPa)')\n",
    "plt.legend(loc='lower center',bbox_to_anchor=(0.5,-0.42),ncol=2)\n",
    "plt.savefig('./figures/app_static_leakage_shapes_lc.pdf',bbox_inches = 'tight')\n",
    "plt.clf()"
   ]
  },
  {
   "cell_type": "markdown",
   "id": "25cfed42",
   "metadata": {},
   "source": [
    "# Repeatablilty"
   ]
  },
  {
   "cell_type": "markdown",
   "id": "05b8ee21",
   "metadata": {},
   "source": [
    "We performed two repeatability tests\n",
    "- The test was rerun without any changes in the connections (rerun)\n",
    "- The model was reconnected prior to taking the tests (reconnected)"
   ]
  },
  {
   "cell_type": "markdown",
   "id": "489fc8ea",
   "metadata": {},
   "source": [
    "### Rerun"
   ]
  },
  {
   "cell_type": "code",
   "execution_count": 10,
   "id": "090be761",
   "metadata": {},
   "outputs": [],
   "source": [
    "# Store repeatability data in a dictionary\n",
    "static_rerun = {}\n",
    "\n",
    "# Iterate all 3 repeated tests and add them to the dictionary\n",
    "for test in range(1,4):\n",
    "    # Load the data of the corresponding results in .CSV and drop unncessary columns\n",
    "    test_df = pd.read_csv(f'./data/repeatability/rerun/static/{test}_O-ring257.csv',delimiter='\\s+',header=None,names=(['Time','A','B','C','Laser(mm)','Pressure(bar)','Force(N)']))\n",
    "    test_df.drop(columns=['A','B','C'],index=test_df.index[range(drop_amount)],axis=1,inplace=True)\n",
    "    \n",
    "    # Store the data in the dictionary\n",
    "    static_rerun[test] = {}\n",
    "    # Filtering the data with a rolling window and sampling the data (in s)\n",
    "    static_rerun[test]['Time'] = test_df['Time'].head(130000).rolling(window=100).mean()[::1000]/1000\n",
    "    # Define the pressure drop by reducing each pressure value with the first pressure value (in bar)\n",
    "    static_rerun[test]['PressureDrop(bar)'] = test_df['Pressure(bar)'] - test_df['Pressure(bar)'][drop_amount]\n",
    "    # Filtering the pressure with a rolling window and sampling the data (in MPa)\n",
    "    static_rerun[test]['PressureDrop(bar)'] = static_rerun[test]['PressureDrop(bar)'].head(130000).rolling(window=100).mean()[::1000]/10\n",
    "    # Ensure the first value is equal to 0 to prevent NaN\n",
    "    static_rerun[test]['PressureDrop(bar)'][drop_amount] = 0"
   ]
  },
  {
   "cell_type": "code",
   "execution_count": 11,
   "id": "f920575c",
   "metadata": {
    "scrolled": true
   },
   "outputs": [
    {
     "data": {
      "text/plain": [
       "<Figure size 432x288 with 0 Axes>"
      ]
     },
     "metadata": {},
     "output_type": "display_data"
    }
   ],
   "source": [
    "plt.plot(static_leakage['O-ring']['Time'],static_leakage['O-ring']['PressureDrop(bar)'],'tab:grey',alpha=0.25, linestyle='dotted',linewidth=3)   \n",
    "plt.plot(static_leakage['NAPN']['Time'],static_leakage['NAPN']['PressureDrop(bar)'],'tab:grey',alpha=0.25, linestyle='dashdot')\n",
    "plt.plot(static_leakage['PK']['Time'],static_leakage['PK']['PressureDrop(bar)'],'tab:grey',alpha=0.25,linestyle='dashed')\n",
    "plt.plot(static_leakage['KDN']['Time'],static_leakage['KDN']['PressureDrop(bar)'],'tab:grey',alpha=0.25)\n",
    "plt.plot(static_leakage['O-ring257']['Time'],static_leakage['O-ring257']['PressureDrop(bar)'],'tab:grey',alpha=0.25,linestyle='dotted',linewidth=3)\n",
    "plt.plot(static_leakage['X-ring257']['Time'],static_leakage['X-ring257']['PressureDrop(bar)'],'tab:grey',alpha=0.25, linestyle=(0,(5,2,2)))\n",
    "plt.plot(static_rerun[1]['Time'],static_rerun[1]['PressureDrop(bar)'],'red',label='Test 1',linewidth=2)\n",
    "plt.plot(static_rerun[2]['Time'],static_rerun[2]['PressureDrop(bar)'],'firebrick',label='Test 2',linewidth=2)\n",
    "plt.plot(static_rerun[3]['Time'],static_rerun[3]['PressureDrop(bar)'],'darkred',label='Test 3',linewidth=2)\n",
    "\n",
    "# Set the labels and save the figure\n",
    "plt.xlabel('Time (s)')\n",
    "plt.ylabel('Pressure drop (MPa)')\n",
    "plt.legend(loc=3)\n",
    "plt.savefig('./figures/app_static_leakage_rerun.pdf',bbox_inches = 'tight')\n",
    "plt.clf()"
   ]
  },
  {
   "cell_type": "markdown",
   "id": "1704332f",
   "metadata": {},
   "source": [
    "### Reconnected"
   ]
  },
  {
   "cell_type": "code",
   "execution_count": 12,
   "id": "5b3fdd63",
   "metadata": {},
   "outputs": [],
   "source": [
    "# Store repeatability data in a dictionary\n",
    "static_reconnected = {}\n",
    "\n",
    "# Iterate all 3 repeated tests and add them to the dictionary\n",
    "for test in range(1,4):\n",
    "    # Load the data of the corresponding results in .CSV and drop unncessary columns\n",
    "    test_df = pd.read_csv(f'./data/repeatability/reconnected/static/{test}_O-ring257.csv',delimiter='\\s+',header=None,names=(['Time','A','B','C','Laser(mm)','Pressure(bar)','Force(N)']))\n",
    "    test_df.drop(columns=['A','B','C'],index=test_df.index[range(drop_amount)],axis=1,inplace=True)\n",
    "    \n",
    "    # Store the data in the dictionary\n",
    "    static_reconnected[test] = {}    \n",
    "    # Filtering the data with a rolling window and sampling the data (in s)\n",
    "    static_reconnected[test]['Time'] = test_df['Time'].head(130000).rolling(window=100).mean()[::1000]/1000\n",
    "    # Define the pressure drop by reducing each pressure value with the first pressure value (in bar)\n",
    "    static_reconnected[test]['PressureDrop(bar)'] = test_df['Pressure(bar)'] - test_df['Pressure(bar)'][drop_amount]\n",
    "    # Filtering the pressure with a rolling window and sampling the data (in MPa)\n",
    "    static_reconnected[test]['PressureDrop(bar)'] = static_reconnected[test]['PressureDrop(bar)'].head(130000).rolling(window=100).mean()[::1000]/10\n",
    "    # Ensure the first value is equal to 0 to preven NaN\n",
    "    static_reconnected[test]['PressureDrop(bar)'][drop_amount] = 0"
   ]
  },
  {
   "cell_type": "code",
   "execution_count": 13,
   "id": "095c41dc",
   "metadata": {
    "scrolled": true
   },
   "outputs": [
    {
     "data": {
      "text/plain": [
       "<Figure size 432x288 with 0 Axes>"
      ]
     },
     "metadata": {},
     "output_type": "display_data"
    }
   ],
   "source": [
    "# Substracting the initial pressure from the data to account for pressure drop\n",
    "plt.plot(static_leakage['O-ring']['Time'],static_leakage['O-ring']['PressureDrop(bar)'],'tab:grey',alpha=0.25, linestyle='dotted',linewidth=3)   \n",
    "plt.plot(static_leakage['NAPN']['Time'],static_leakage['NAPN']['PressureDrop(bar)'],'tab:grey',alpha=0.25, linestyle='dashdot')\n",
    "plt.plot(static_leakage['PK']['Time'],static_leakage['PK']['PressureDrop(bar)'],'tab:grey',alpha=0.25,linestyle='dashed')\n",
    "plt.plot(static_leakage['KDN']['Time'],static_leakage['KDN']['PressureDrop(bar)'],'tab:grey',alpha=0.25)\n",
    "plt.plot(static_leakage['O-ring257']['Time'],static_leakage['O-ring257']['PressureDrop(bar)'],'tab:grey',alpha=0.25,linestyle='dotted',linewidth=3)\n",
    "plt.plot(static_leakage['X-ring257']['Time'],static_leakage['X-ring257']['PressureDrop(bar)'],'tab:grey',alpha=0.25, linestyle=(0,(5,2,2)))\n",
    "plt.plot(static_reconnected[1]['Time'],static_reconnected[1]['PressureDrop(bar)'],'skyblue',label='Test 1',linewidth=2)\n",
    "plt.plot(static_reconnected[2]['Time'],static_reconnected[2]['PressureDrop(bar)'],'cornflowerblue',label='Test 2',linewidth=2)\n",
    "plt.plot(static_reconnected[3]['Time'],static_reconnected[3]['PressureDrop(bar)'],'steelblue',label='Test 3',linewidth=2)\n",
    "\n",
    "# Set the labels and save the figure\n",
    "plt.xlabel('Time (s)')\n",
    "plt.ylabel('Pressure drop (MPa)')\n",
    "plt.legend(loc=3)\n",
    "plt.savefig('./figures/app_static_leakage_reconnected.pdf',bbox_inches = 'tight')\n",
    "plt.clf()"
   ]
  }
 ],
 "metadata": {
  "kernelspec": {
   "display_name": "Python 3",
   "language": "python",
   "name": "python3"
  },
  "language_info": {
   "codemirror_mode": {
    "name": "ipython",
    "version": 3
   },
   "file_extension": ".py",
   "mimetype": "text/x-python",
   "name": "python",
   "nbconvert_exporter": "python",
   "pygments_lexer": "ipython3",
   "version": "3.8.2"
  }
 },
 "nbformat": 4,
 "nbformat_minor": 5
}

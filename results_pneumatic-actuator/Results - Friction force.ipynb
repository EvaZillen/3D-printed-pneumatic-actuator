{
 "cells": [
  {
   "cell_type": "code",
   "execution_count": 30,
   "id": "c42768e5",
   "metadata": {},
   "outputs": [],
   "source": [
    "\"\"\"\n",
    "In this script, the results of the friction tests are visualised.\n",
    "All visualisations are stored in /figures/\n",
    "\n",
    "To show the visualisations in this Notebook, remove or comment plt.clf() after plt.savefig()\n",
    "\"\"\"\n",
    "\n",
    "__author__ = \"Eva Zillen\"\n",
    "__copyright__ = \"Copyright 2021, TU Delft Biomechanical Design\"\n",
    "__credits__ = [\"Eva Zillen, Heike Vallery, Gerwin Smit\"]\n",
    "__license__ = \"CC0-1.0 License\"\n",
    "__version__ = \"1.0.0\"\n",
    "__maintainer__ = \"Eva Zillen\"\n",
    "__email__ = \"e.zillen@student.tudelft.nl\""
   ]
  },
  {
   "cell_type": "markdown",
   "id": "ca026e0d",
   "metadata": {},
   "source": [
    "#### Imports"
   ]
  },
  {
   "cell_type": "code",
   "execution_count": 2,
   "id": "ac5ab237",
   "metadata": {},
   "outputs": [],
   "source": [
    "import math\n",
    "import pandas as pd\n",
    "import matplotlib.pyplot as plt\n",
    "import numpy as np\n",
    "from statistics import mean"
   ]
  },
  {
   "cell_type": "markdown",
   "id": "fe57ff50",
   "metadata": {},
   "source": [
    "#### Global variables"
   ]
  },
  {
   "cell_type": "code",
   "execution_count": 3,
   "id": "501bdfc9",
   "metadata": {},
   "outputs": [],
   "source": [
    "# The diameter (in m) of the pneumatic cylinder\n",
    "d_25 = 25 / 1000\n",
    "# The radius (in m) of the pneumatic cylinder\n",
    "r_25 = d_25 / 2\n",
    "# The surface area (in m^2) of the pneumatic cylinder\n",
    "area = math.pi * r_25**2\n",
    "\n",
    "# The diameter (in m) of the pneumatic cylinder for the X-ring and corresponding O-ring\n",
    "d_257 = 25.7 / 1000\n",
    "# The radius (in m) of the pneumatic cylinder for the X-ring and corresponding O-ring\n",
    "r_257 = d_257 / 2\n",
    "# The surface area (in m^2) of the pneumatic cylinder for the X-ring and corresponding O-ring\n",
    "large_area = math.pi * r_257**2\n",
    "\n",
    "# The models with different sealing mechanism used in this test\n",
    "rings = ['O-ring','NAPN','NAP310','PK','KDN','O-ring257','X-ring257']\n",
    "# The models with different cross-sectional shape used in this test\n",
    "shapes = ['Circle','Stadium','Kidney','Stadium_lc','Kidney_lc']\n",
    "# Remove first 15 data points to avoid deviating starting values\n",
    "drop_amount = 15 "
   ]
  },
  {
   "cell_type": "markdown",
   "id": "dac693f4",
   "metadata": {},
   "source": [
    "# Friction force test"
   ]
  },
  {
   "cell_type": "code",
   "execution_count": 4,
   "id": "4f48d050",
   "metadata": {},
   "outputs": [],
   "source": [
    "# Define a dictionary to store all data from the friction force tests\n",
    "# For each model all variables are stored in this nested dictionary\n",
    "friction_force = {}\n",
    "\n",
    "# For each ring type\n",
    "for ring in rings:\n",
    "    friction_force[ring] = {}\n",
    "    for bar in [1,3,5,7]:\n",
    "        # Load the data of the corresponding results in .CSV and drop unncessary columns\n",
    "        ring_df = pd.read_csv(f'./data/friction/{ring}_{bar}bar.csv',delimiter='\\s+',header=None,names=(['Time','A','B','C','Laser(mm)','Pressure(bar)','Force(N)']))\n",
    "        ring_df.drop(columns=['A','B','C'],index=ring_df.index[range(drop_amount)],axis=1,inplace=True)\n",
    "\n",
    "        # Store the data in our larger dictionary\n",
    "        friction_force[ring][bar] = {}\n",
    "        # Set the time (in s) and laser (in mm)\n",
    "        friction_force[ring][bar]['Time'] = ring_df['Time']/1000\n",
    "        friction_force[ring][bar]['Laser(mm)'] = ring_df['Laser(mm)']\n",
    "        # Set the pressure (in MPa) and force (in N)\n",
    "        friction_force[ring][bar]['Pressure(bar)'] = ring_df['Pressure(bar)']/10\n",
    "        friction_force[ring][bar]['Force(N)'] = ring_df['Force(N)']\n",
    "        \n",
    "        # Calculate force Fp based on the measured pressure (see equation 2 in the report)\n",
    "        # The 25.7 mm rings have a different and larger surface area\n",
    "        if '257' in ring:\n",
    "            Fp = ring_df['Pressure(bar)'] * 10**5 * large_area\n",
    "        else:\n",
    "            Fp = ring_df['Pressure(bar)'] * 10**5 * area\n",
    "        \n",
    "        # Calculate the friction force by substracting the measured force with Fp (see equation 3 in the report)\n",
    "        FF = ring_df['Force(N)'] - Fp\n",
    "        friction_force[ring][bar]['FrictionForce'] = FF\n",
    "        friction_force[ring][bar]['FrictionFrom'] = FF[FF>FF.mean()].mean()\n",
    "        friction_force[ring][bar]['FrictionTo'] = FF[FF<FF.mean()].mean()\n",
    "\n",
    "# For each shape type  \n",
    "for shape in shapes:\n",
    "    friction_force[shape] = {}\n",
    "    for bar in [1,2,3,4,5,6,7]:\n",
    "        # Some shapes extrude at higher pressure, no data is available for them\n",
    "        if bar > 3 and shape not in ['Stadium_lc','Kidney_lc','Kidney', 'Circle']:\n",
    "            break\n",
    "        if bar > 4 and shape not in ['Stadium_lc', 'Kidney_lc', 'Circle']:\n",
    "            break\n",
    "        if bar > 5 and shape not in ['Kidney_lc', 'Circle']:\n",
    "            break\n",
    "        # Load the data of the corresponding results in .CSV and drop unncessary columns\n",
    "        shape_df = pd.read_csv(f'./data/friction/{shape}_{bar}bar.csv',delimiter='\\s+',header=None,names=(['Time','A','B','C','Laser(mm)','Pressure(bar)','Force(N)']))\n",
    "        shape_df.drop(columns=['A','B','C'],index=shape_df.index[range(drop_amount)],axis=1,inplace=True)\n",
    "\n",
    "        # Store the data in our larger dictionary\n",
    "        friction_force[shape][bar] = {}\n",
    "        # Set the time (in s) and laser (in mm)\n",
    "        friction_force[shape][bar]['Time'] = shape_df['Time']/1000\n",
    "        friction_force[shape][bar]['Laser(mm)'] = shape_df['Laser(mm)']\n",
    "        # Set the pressure (in MPa) and force (in N)\n",
    "        friction_force[shape][bar]['Pressure(bar)'] = shape_df['Pressure(bar)']/10\n",
    "        friction_force[shape][bar]['Force(N)'] = shape_df['Force(N)']\n",
    "\n",
    "        # Calculate force Fp based on the measured pressure (see equation 2 in the report)\n",
    "        Fp = shape_df['Pressure(bar)'] * 10**5 * area\n",
    "        \n",
    "        # Calculate the friction force by substracting the measured force with Fp (see equation 3 in the report)\n",
    "        FF = shape_df['Force(N)'] - Fp\n",
    "        friction_force[shape][bar]['FrictionForce'] = FF      \n",
    "        friction_force[shape][bar]['FrictionFrom'] = FF[FF>FF.mean()].mean()\n",
    "        friction_force[shape][bar]['FrictionTo'] = FF[FF<FF.mean()].mean()"
   ]
  },
  {
   "cell_type": "markdown",
   "id": "acdccef2",
   "metadata": {},
   "source": [
    "#### Friction force range definement plot - visual for in methodology"
   ]
  },
  {
   "cell_type": "code",
   "execution_count": 5,
   "id": "1f98f4a6",
   "metadata": {},
   "outputs": [
    {
     "data": {
      "text/plain": [
       "<Figure size 432x288 with 0 Axes>"
      ]
     },
     "metadata": {},
     "output_type": "display_data"
    }
   ],
   "source": [
    "plt.annotate(text='',xy=(12,friction_force['O-ring'][1]['FrictionFrom']), xytext=(12,friction_force['O-ring'][1]['FrictionTo']), arrowprops=dict(arrowstyle='<->', lw=2))\n",
    "plt.hlines(xmin=0, xmax=70,y=friction_force['O-ring'][1]['FrictionFrom'], linestyles='dashed', colors='0', lw=2)\n",
    "plt.hlines(xmin=0, xmax=70,y=friction_force['O-ring'][1]['FrictionTo'], linestyles='dashed', colors='0', lw=2)\n",
    "plt.plot(friction_force['O-ring'][1]['Time'],friction_force['O-ring'][1]['FrictionForce'],'tab:blue',label='O-ring')\n",
    "plt.plot(friction_force['NAPN'][1]['Time'],friction_force['NAPN'][1]['FrictionForce'],'tab:orange',alpha=0.25,label='NAPN')\n",
    "plt.plot(friction_force['NAP310'][1]['Time'],friction_force['NAP310'][1]['FrictionForce'],'tab:green',alpha=0.25,label='NAP 330')\n",
    "plt.plot(friction_force['PK'][1]['Time'],friction_force['PK'][1]['FrictionForce'],'tab:red',alpha=0.25,label='PK')\n",
    "plt.plot(friction_force['KDN'][1]['Time'],friction_force['KDN'][1]['FrictionForce'],'tab:purple', alpha=0.25,label='KDN')\n",
    "\n",
    "plt.xlim([5,15])\n",
    "plt.xlabel('Time (s)')\n",
    "plt.ylabel('Force (N)')\n",
    "plt.legend(loc='lower center',bbox_to_anchor=(0.5,-0.3),ncol=5)\n",
    "plt.savefig('./figures/method_frictionforce_1bar_zoom.pdf',bbox_inches = 'tight')\n",
    "plt.clf()"
   ]
  },
  {
   "cell_type": "markdown",
   "id": "bf284d75",
   "metadata": {},
   "source": [
    "#### Standard deviation & Standard error "
   ]
  },
  {
   "cell_type": "code",
   "execution_count": 6,
   "id": "87e047c9",
   "metadata": {},
   "outputs": [],
   "source": [
    "# Function to calculate standard error for a specific test\n",
    "def calculate_se(friction_force,model,bar):\n",
    "    # Calculate the mean to define retracting and extending parts\n",
    "    frictionforce_mean = friction_force[model][bar]['FrictionForce'].mean()\n",
    "    # Variable to store the friction force\n",
    "    frictionforce = list(friction_force[model][bar]['FrictionForce'])\n",
    "    # Variables for results and counter\n",
    "    frictionforce_se_means = []\n",
    "    i = 0\n",
    "    \n",
    "    # Loop through the data and break them up into separate tests\n",
    "    while i < len(frictionforce) - 1:\n",
    "        # Lists for retracting and extending parts of a single test\n",
    "        retracting = []\n",
    "        extending = []\n",
    "        \n",
    "        # First the retracting part of a test is done\n",
    "        # Get all values above the mean\n",
    "        while len(retracting) < 100 or frictionforce[i] > frictionforce_mean:\n",
    "            retracting.append(frictionforce[i])\n",
    "            i += 1\n",
    "            # Break if it gets below the mean\n",
    "            if i > len(frictionforce) - 1:\n",
    "                break\n",
    "                \n",
    "        # Secondly the extending part of a test is done\n",
    "        # Get all values below the mean\n",
    "        while len(extending) < 100 or frictionforce[i] < frictionforce_mean:\n",
    "            extending.append(frictionforce[i])\n",
    "            i += 1\n",
    "            # Break if it gets above the mean\n",
    "            if i > len(frictionforce) - 1:\n",
    "                break\n",
    "                \n",
    "        # The friction force range is defined as the difference between the mean friction force of the retracting and extending strokes\n",
    "        frictionforce_se_means.append(mean(retracting)-mean(extending))\n",
    "        \n",
    "    # Standard error is calculated by the standard deviation of the means\n",
    "    # Also return the mean of the friction force ranges across the tests\n",
    "    # Finally return the last test to determine the standard deviation of one extending and retracting stroke\n",
    "    return mean(frictionforce_se_means),np.std(frictionforce_se_means),extending,retracting"
   ]
  },
  {
   "cell_type": "code",
   "execution_count": 7,
   "id": "5a6bbdb8",
   "metadata": {
    "scrolled": true
   },
   "outputs": [
    {
     "name": "stderr",
     "output_type": "stream",
     "text": [
      "<ipython-input-7-05416222b002>:14: DeprecationWarning: The default dtype for empty Series will be 'object' instead of 'float64' in a future version. Specify a dtype explicitly to silence this warning.\n",
      "  std_single_test_rings = std_single_test_rings.append(pd.Series(name= str(bar)+'_bar_retracting'))\n",
      "<ipython-input-7-05416222b002>:16: DeprecationWarning: The default dtype for empty Series will be 'object' instead of 'float64' in a future version. Specify a dtype explicitly to silence this warning.\n",
      "  std_single_test_rings = std_single_test_rings.append(pd.Series(name= str(bar)+'_bar_extending'))\n"
     ]
    },
    {
     "name": "stdout",
     "output_type": "stream",
     "text": [
      "No data for Stadium - 4 bar due to extrusion of the O-ring\n",
      "No data for Stadium - 5 bar due to extrusion of the O-ring\n",
      "No data for Stadium - 6 bar due to extrusion of the O-ring\n",
      "No data for Stadium - 7 bar due to extrusion of the O-ring\n",
      "No data for Kidney - 5 bar due to extrusion of the O-ring\n",
      "No data for Kidney - 6 bar due to extrusion of the O-ring\n",
      "No data for Kidney - 7 bar due to extrusion of the O-ring\n",
      "No data for Stadium_lc - 6 bar due to extrusion of the O-ring\n",
      "No data for Stadium_lc - 7 bar due to extrusion of the O-ring\n"
     ]
    },
    {
     "name": "stderr",
     "output_type": "stream",
     "text": [
      "<ipython-input-7-05416222b002>:34: DeprecationWarning: The default dtype for empty Series will be 'object' instead of 'float64' in a future version. Specify a dtype explicitly to silence this warning.\n",
      "  std_single_test_shapes = std_single_test_shapes.append(pd.Series(name= str(bar)+'_bar_retracting'))\n",
      "<ipython-input-7-05416222b002>:36: DeprecationWarning: The default dtype for empty Series will be 'object' instead of 'float64' in a future version. Specify a dtype explicitly to silence this warning.\n",
      "  std_single_test_shapes = std_single_test_shapes.append(pd.Series(name= str(bar)+'_bar_extending'))\n"
     ]
    }
   ],
   "source": [
    "# For each model use the calculate_se() function to acquire the friction force range and the standard error\n",
    "# Additionally for each of the rings and shapes the standard deviation of a single test is saved\n",
    "std_single_test_rings = pd.DataFrame(columns=['Bar']+rings)\n",
    "std_single_test_rings = std_single_test_rings.set_index('Bar')\n",
    "\n",
    "for ring in rings:\n",
    "    for bar in [1,3,5,7]:\n",
    "        mean_ff,se_ff,extending,retracting = calculate_se(friction_force,ring,bar)\n",
    "        friction_force[ring][bar]['SE_FrictionForce'] = se_ff\n",
    "        friction_force[ring][bar]['Mean_FrictionForce'] = mean_ff\n",
    "        \n",
    "        # For each retracting and extending test, check if the index already exists\n",
    "        if str(bar)+'_bar_retracting' not in list(std_single_test_rings.index):\n",
    "            std_single_test_rings = std_single_test_rings.append(pd.Series(name= str(bar)+'_bar_retracting'))\n",
    "        if str(bar)+'_bar_extending' not in list(std_single_test_rings.index):\n",
    "            std_single_test_rings = std_single_test_rings.append(pd.Series(name= str(bar)+'_bar_extending'))\n",
    "            \n",
    "        # For each individual test save the average and standard deviation\n",
    "        std_single_test_rings.loc[str(bar)+'_bar_retracting'][ring] = f'{str(round(mean(retracting),2))} $\\pm$ {round(np.std(retracting),2)}'\n",
    "        std_single_test_rings.loc[str(bar)+'_bar_extending'][ring] = f'{str(round(mean(extending),2))} $\\pm$ {round(np.std(extending),2)}'\n",
    "\n",
    "# Again define a dataframe to store the standard deviations of each single test\n",
    "std_single_test_shapes = pd.DataFrame(columns=['Bar']+shapes)\n",
    "std_single_test_shapes = std_single_test_shapes.set_index('Bar')\n",
    "for shape in shapes:\n",
    "    for bar in [1,2,3,4,5,6,7]:\n",
    "        try:\n",
    "            mean_ff,se_ff,extending,retracting = calculate_se(friction_force,shape,bar)\n",
    "            friction_force[shape][bar]['SE_FrictionForce'] = se_ff\n",
    "            friction_force[shape][bar]['Mean_FrictionForce'] = mean_ff\n",
    "            \n",
    "            # For each retracting and extending test, check if the index already exists\n",
    "            if str(bar)+'_bar_retracting' not in list(std_single_test_shapes.index):\n",
    "                std_single_test_shapes = std_single_test_shapes.append(pd.Series(name= str(bar)+'_bar_retracting'))\n",
    "            if str(bar)+'_bar_extending' not in list(std_single_test_shapes.index):\n",
    "                std_single_test_shapes = std_single_test_shapes.append(pd.Series(name= str(bar)+'_bar_extending'))\n",
    "        \n",
    "            # For each test save the average and standard deviation\n",
    "            std_single_test_shapes.loc[str(bar)+'_bar_retracting'][shape] = f'{str(round(mean(retracting),2))} $\\pm$ {round(np.std(retracting),2)}'\n",
    "            std_single_test_shapes.loc[str(bar)+'_bar_extending'][shape] = f'{str(round(mean(extending),2))} $\\pm$ {round(np.std(extending),2)}'\n",
    "\n",
    "        except Exception as e:\n",
    "            print(f'No data for {shape} - {e} bar due to extrusion of the O-ring')\n"
   ]
  },
  {
   "cell_type": "code",
   "execution_count": 8,
   "id": "7323cd7e",
   "metadata": {},
   "outputs": [
    {
     "data": {
      "text/html": [
       "<div>\n",
       "<style scoped>\n",
       "    .dataframe tbody tr th:only-of-type {\n",
       "        vertical-align: middle;\n",
       "    }\n",
       "\n",
       "    .dataframe tbody tr th {\n",
       "        vertical-align: top;\n",
       "    }\n",
       "\n",
       "    .dataframe thead th {\n",
       "        text-align: right;\n",
       "    }\n",
       "</style>\n",
       "<table border=\"1\" class=\"dataframe\">\n",
       "  <thead>\n",
       "    <tr style=\"text-align: right;\">\n",
       "      <th></th>\n",
       "      <th>O-ring</th>\n",
       "      <th>NAPN</th>\n",
       "      <th>NAP310</th>\n",
       "      <th>PK</th>\n",
       "      <th>KDN</th>\n",
       "      <th>O-ring257</th>\n",
       "      <th>X-ring257</th>\n",
       "    </tr>\n",
       "    <tr>\n",
       "      <th>Bar</th>\n",
       "      <th></th>\n",
       "      <th></th>\n",
       "      <th></th>\n",
       "      <th></th>\n",
       "      <th></th>\n",
       "      <th></th>\n",
       "      <th></th>\n",
       "    </tr>\n",
       "  </thead>\n",
       "  <tbody>\n",
       "    <tr>\n",
       "      <th>1_bar_retracting</th>\n",
       "      <td>4.75 $\\pm$ 0.44</td>\n",
       "      <td>4.55 $\\pm$ 0.38</td>\n",
       "      <td>2.69 $\\pm$ 0.27</td>\n",
       "      <td>3.33 $\\pm$ 0.33</td>\n",
       "      <td>6.32 $\\pm$ 0.54</td>\n",
       "      <td>6.2 $\\pm$ 0.74</td>\n",
       "      <td>5.25 $\\pm$ 0.51</td>\n",
       "    </tr>\n",
       "    <tr>\n",
       "      <th>1_bar_extending</th>\n",
       "      <td>-3.26 $\\pm$ 0.35</td>\n",
       "      <td>-2.31 $\\pm$ 0.27</td>\n",
       "      <td>-1.09 $\\pm$ 0.25</td>\n",
       "      <td>-1.85 $\\pm$ 0.3</td>\n",
       "      <td>-4.91 $\\pm$ 0.43</td>\n",
       "      <td>-3.62 $\\pm$ 0.68</td>\n",
       "      <td>-3.7 $\\pm$ 0.52</td>\n",
       "    </tr>\n",
       "    <tr>\n",
       "      <th>3_bar_retracting</th>\n",
       "      <td>7.84 $\\pm$ 0.7</td>\n",
       "      <td>9.44 $\\pm$ 0.53</td>\n",
       "      <td>5.78 $\\pm$ 0.54</td>\n",
       "      <td>5.91 $\\pm$ 0.35</td>\n",
       "      <td>8.14 $\\pm$ 0.45</td>\n",
       "      <td>8.02 $\\pm$ 0.68</td>\n",
       "      <td>8.66 $\\pm$ 0.67</td>\n",
       "    </tr>\n",
       "    <tr>\n",
       "      <th>3_bar_extending</th>\n",
       "      <td>-3.46 $\\pm$ 0.59</td>\n",
       "      <td>-4.47 $\\pm$ 0.54</td>\n",
       "      <td>-1.41 $\\pm$ 0.36</td>\n",
       "      <td>-1.22 $\\pm$ 0.34</td>\n",
       "      <td>-3.08 $\\pm$ 0.68</td>\n",
       "      <td>-4.13 $\\pm$ 1.0</td>\n",
       "      <td>-4.27 $\\pm$ 0.6</td>\n",
       "    </tr>\n",
       "    <tr>\n",
       "      <th>5_bar_retracting</th>\n",
       "      <td>9.3 $\\pm$ 0.69</td>\n",
       "      <td>13.1 $\\pm$ 0.93</td>\n",
       "      <td>8.21 $\\pm$ 0.66</td>\n",
       "      <td>8.5 $\\pm$ 0.83</td>\n",
       "      <td>9.26 $\\pm$ 0.65</td>\n",
       "      <td>9.4 $\\pm$ 0.8</td>\n",
       "      <td>11.53 $\\pm$ 0.71</td>\n",
       "    </tr>\n",
       "    <tr>\n",
       "      <th>5_bar_extending</th>\n",
       "      <td>-4.84 $\\pm$ 1.47</td>\n",
       "      <td>-6.61 $\\pm$ 1.24</td>\n",
       "      <td>-1.76 $\\pm$ 0.52</td>\n",
       "      <td>-2.03 $\\pm$ 0.51</td>\n",
       "      <td>-2.94 $\\pm$ 0.59</td>\n",
       "      <td>-4.86 $\\pm$ 1.42</td>\n",
       "      <td>-6.16 $\\pm$ 1.23</td>\n",
       "    </tr>\n",
       "    <tr>\n",
       "      <th>7_bar_retracting</th>\n",
       "      <td>11.78 $\\pm$ 0.9</td>\n",
       "      <td>16.31 $\\pm$ 1.05</td>\n",
       "      <td>11.3 $\\pm$ 0.55</td>\n",
       "      <td>11.73 $\\pm$ 0.81</td>\n",
       "      <td>10.78 $\\pm$ 0.51</td>\n",
       "      <td>10.22 $\\pm$ 0.63</td>\n",
       "      <td>17.79 $\\pm$ 1.54</td>\n",
       "    </tr>\n",
       "    <tr>\n",
       "      <th>7_bar_extending</th>\n",
       "      <td>-5.2 $\\pm$ 1.89</td>\n",
       "      <td>-7.59 $\\pm$ 1.74</td>\n",
       "      <td>-3.53 $\\pm$ 1.4</td>\n",
       "      <td>-1.38 $\\pm$ 0.72</td>\n",
       "      <td>-2.57 $\\pm$ 1.04</td>\n",
       "      <td>-5.96 $\\pm$ 1.72</td>\n",
       "      <td>-14.54 $\\pm$ 3.3</td>\n",
       "    </tr>\n",
       "  </tbody>\n",
       "</table>\n",
       "</div>"
      ],
      "text/plain": [
       "                            O-ring              NAPN            NAP310  \\\n",
       "Bar                                                                      \n",
       "1_bar_retracting   4.75 $\\pm$ 0.44   4.55 $\\pm$ 0.38   2.69 $\\pm$ 0.27   \n",
       "1_bar_extending   -3.26 $\\pm$ 0.35  -2.31 $\\pm$ 0.27  -1.09 $\\pm$ 0.25   \n",
       "3_bar_retracting    7.84 $\\pm$ 0.7   9.44 $\\pm$ 0.53   5.78 $\\pm$ 0.54   \n",
       "3_bar_extending   -3.46 $\\pm$ 0.59  -4.47 $\\pm$ 0.54  -1.41 $\\pm$ 0.36   \n",
       "5_bar_retracting    9.3 $\\pm$ 0.69   13.1 $\\pm$ 0.93   8.21 $\\pm$ 0.66   \n",
       "5_bar_extending   -4.84 $\\pm$ 1.47  -6.61 $\\pm$ 1.24  -1.76 $\\pm$ 0.52   \n",
       "7_bar_retracting   11.78 $\\pm$ 0.9  16.31 $\\pm$ 1.05   11.3 $\\pm$ 0.55   \n",
       "7_bar_extending    -5.2 $\\pm$ 1.89  -7.59 $\\pm$ 1.74   -3.53 $\\pm$ 1.4   \n",
       "\n",
       "                                PK               KDN         O-ring257  \\\n",
       "Bar                                                                      \n",
       "1_bar_retracting   3.33 $\\pm$ 0.33   6.32 $\\pm$ 0.54    6.2 $\\pm$ 0.74   \n",
       "1_bar_extending    -1.85 $\\pm$ 0.3  -4.91 $\\pm$ 0.43  -3.62 $\\pm$ 0.68   \n",
       "3_bar_retracting   5.91 $\\pm$ 0.35   8.14 $\\pm$ 0.45   8.02 $\\pm$ 0.68   \n",
       "3_bar_extending   -1.22 $\\pm$ 0.34  -3.08 $\\pm$ 0.68   -4.13 $\\pm$ 1.0   \n",
       "5_bar_retracting    8.5 $\\pm$ 0.83   9.26 $\\pm$ 0.65     9.4 $\\pm$ 0.8   \n",
       "5_bar_extending   -2.03 $\\pm$ 0.51  -2.94 $\\pm$ 0.59  -4.86 $\\pm$ 1.42   \n",
       "7_bar_retracting  11.73 $\\pm$ 0.81  10.78 $\\pm$ 0.51  10.22 $\\pm$ 0.63   \n",
       "7_bar_extending   -1.38 $\\pm$ 0.72  -2.57 $\\pm$ 1.04  -5.96 $\\pm$ 1.72   \n",
       "\n",
       "                         X-ring257  \n",
       "Bar                                 \n",
       "1_bar_retracting   5.25 $\\pm$ 0.51  \n",
       "1_bar_extending    -3.7 $\\pm$ 0.52  \n",
       "3_bar_retracting   8.66 $\\pm$ 0.67  \n",
       "3_bar_extending    -4.27 $\\pm$ 0.6  \n",
       "5_bar_retracting  11.53 $\\pm$ 0.71  \n",
       "5_bar_extending   -6.16 $\\pm$ 1.23  \n",
       "7_bar_retracting  17.79 $\\pm$ 1.54  \n",
       "7_bar_extending   -14.54 $\\pm$ 3.3  "
      ]
     },
     "execution_count": 8,
     "metadata": {},
     "output_type": "execute_result"
    }
   ],
   "source": [
    "std_single_test_rings\n",
    "# print(std_single_test_rings.to_latex(escape=False))"
   ]
  },
  {
   "cell_type": "code",
   "execution_count": 9,
   "id": "32c98f8d",
   "metadata": {},
   "outputs": [
    {
     "data": {
      "text/html": [
       "<div>\n",
       "<style scoped>\n",
       "    .dataframe tbody tr th:only-of-type {\n",
       "        vertical-align: middle;\n",
       "    }\n",
       "\n",
       "    .dataframe tbody tr th {\n",
       "        vertical-align: top;\n",
       "    }\n",
       "\n",
       "    .dataframe thead th {\n",
       "        text-align: right;\n",
       "    }\n",
       "</style>\n",
       "<table border=\"1\" class=\"dataframe\">\n",
       "  <thead>\n",
       "    <tr style=\"text-align: right;\">\n",
       "      <th></th>\n",
       "      <th>Circle</th>\n",
       "      <th>Stadium</th>\n",
       "      <th>Kidney</th>\n",
       "      <th>Stadium_lc</th>\n",
       "      <th>Kidney_lc</th>\n",
       "    </tr>\n",
       "    <tr>\n",
       "      <th>Bar</th>\n",
       "      <th></th>\n",
       "      <th></th>\n",
       "      <th></th>\n",
       "      <th></th>\n",
       "      <th></th>\n",
       "    </tr>\n",
       "  </thead>\n",
       "  <tbody>\n",
       "    <tr>\n",
       "      <th>1_bar_retracting</th>\n",
       "      <td>4.75 $\\pm$ 0.44</td>\n",
       "      <td>7.31 $\\pm$ 0.64</td>\n",
       "      <td>9.45 $\\pm$ 1.35</td>\n",
       "      <td>8.24 $\\pm$ 0.68</td>\n",
       "      <td>15.95 $\\pm$ 2.03</td>\n",
       "    </tr>\n",
       "    <tr>\n",
       "      <th>1_bar_extending</th>\n",
       "      <td>-3.26 $\\pm$ 0.35</td>\n",
       "      <td>-2.44 $\\pm$ 0.56</td>\n",
       "      <td>-4.53 $\\pm$ 0.88</td>\n",
       "      <td>-1.77 $\\pm$ 0.7</td>\n",
       "      <td>-8.29 $\\pm$ 1.65</td>\n",
       "    </tr>\n",
       "    <tr>\n",
       "      <th>2_bar_retracting</th>\n",
       "      <td>8.38 $\\pm$ 0.75</td>\n",
       "      <td>12.03 $\\pm$ 0.96</td>\n",
       "      <td>16.4 $\\pm$ 4.33</td>\n",
       "      <td>11.45 $\\pm$ 0.72</td>\n",
       "      <td>12.35 $\\pm$ 1.03</td>\n",
       "    </tr>\n",
       "    <tr>\n",
       "      <th>2_bar_extending</th>\n",
       "      <td>-2.23 $\\pm$ 0.93</td>\n",
       "      <td>-0.4 $\\pm$ 1.17</td>\n",
       "      <td>-5.63 $\\pm$ 1.74</td>\n",
       "      <td>0.57 $\\pm$ 1.09</td>\n",
       "      <td>-2.88 $\\pm$ 1.14</td>\n",
       "    </tr>\n",
       "    <tr>\n",
       "      <th>3_bar_retracting</th>\n",
       "      <td>7.84 $\\pm$ 0.7</td>\n",
       "      <td>16.63 $\\pm$ 1.31</td>\n",
       "      <td>17.73 $\\pm$ 2.94</td>\n",
       "      <td>17.03 $\\pm$ 1.41</td>\n",
       "      <td>16.55 $\\pm$ 1.18</td>\n",
       "    </tr>\n",
       "    <tr>\n",
       "      <th>3_bar_extending</th>\n",
       "      <td>-3.46 $\\pm$ 0.59</td>\n",
       "      <td>2.0 $\\pm$ 1.34</td>\n",
       "      <td>-3.01 $\\pm$ 1.49</td>\n",
       "      <td>3.44 $\\pm$ 1.55</td>\n",
       "      <td>-1.16 $\\pm$ 1.92</td>\n",
       "    </tr>\n",
       "    <tr>\n",
       "      <th>4_bar_retracting</th>\n",
       "      <td>12.59 $\\pm$ 2.1</td>\n",
       "      <td>NaN</td>\n",
       "      <td>21.9 $\\pm$ 3.69</td>\n",
       "      <td>23.38 $\\pm$ 2.96</td>\n",
       "      <td>21.01 $\\pm$ 2.05</td>\n",
       "    </tr>\n",
       "    <tr>\n",
       "      <th>4_bar_extending</th>\n",
       "      <td>-3.21 $\\pm$ 2.45</td>\n",
       "      <td>NaN</td>\n",
       "      <td>-0.53 $\\pm$ 1.72</td>\n",
       "      <td>6.8 $\\pm$ 2.13</td>\n",
       "      <td>1.13 $\\pm$ 3.13</td>\n",
       "    </tr>\n",
       "    <tr>\n",
       "      <th>5_bar_retracting</th>\n",
       "      <td>9.3 $\\pm$ 0.69</td>\n",
       "      <td>NaN</td>\n",
       "      <td>NaN</td>\n",
       "      <td>26.95 $\\pm$ 3.45</td>\n",
       "      <td>25.54 $\\pm$ 3.21</td>\n",
       "    </tr>\n",
       "    <tr>\n",
       "      <th>5_bar_extending</th>\n",
       "      <td>-4.84 $\\pm$ 1.47</td>\n",
       "      <td>NaN</td>\n",
       "      <td>NaN</td>\n",
       "      <td>6.09 $\\pm$ 2.42</td>\n",
       "      <td>3.51 $\\pm$ 4.0</td>\n",
       "    </tr>\n",
       "    <tr>\n",
       "      <th>6_bar_retracting</th>\n",
       "      <td>15.53 $\\pm$ 1.56</td>\n",
       "      <td>NaN</td>\n",
       "      <td>NaN</td>\n",
       "      <td>NaN</td>\n",
       "      <td>31.88 $\\pm$ 5.13</td>\n",
       "    </tr>\n",
       "    <tr>\n",
       "      <th>6_bar_extending</th>\n",
       "      <td>-4.59 $\\pm$ 2.52</td>\n",
       "      <td>NaN</td>\n",
       "      <td>NaN</td>\n",
       "      <td>NaN</td>\n",
       "      <td>7.54 $\\pm$ 5.7</td>\n",
       "    </tr>\n",
       "    <tr>\n",
       "      <th>7_bar_retracting</th>\n",
       "      <td>11.78 $\\pm$ 0.9</td>\n",
       "      <td>NaN</td>\n",
       "      <td>NaN</td>\n",
       "      <td>NaN</td>\n",
       "      <td>37.15 $\\pm$ 5.64</td>\n",
       "    </tr>\n",
       "    <tr>\n",
       "      <th>7_bar_extending</th>\n",
       "      <td>-5.2 $\\pm$ 1.89</td>\n",
       "      <td>NaN</td>\n",
       "      <td>NaN</td>\n",
       "      <td>NaN</td>\n",
       "      <td>12.95 $\\pm$ 8.0</td>\n",
       "    </tr>\n",
       "  </tbody>\n",
       "</table>\n",
       "</div>"
      ],
      "text/plain": [
       "                            Circle           Stadium            Kidney  \\\n",
       "Bar                                                                      \n",
       "1_bar_retracting   4.75 $\\pm$ 0.44   7.31 $\\pm$ 0.64   9.45 $\\pm$ 1.35   \n",
       "1_bar_extending   -3.26 $\\pm$ 0.35  -2.44 $\\pm$ 0.56  -4.53 $\\pm$ 0.88   \n",
       "2_bar_retracting   8.38 $\\pm$ 0.75  12.03 $\\pm$ 0.96   16.4 $\\pm$ 4.33   \n",
       "2_bar_extending   -2.23 $\\pm$ 0.93   -0.4 $\\pm$ 1.17  -5.63 $\\pm$ 1.74   \n",
       "3_bar_retracting    7.84 $\\pm$ 0.7  16.63 $\\pm$ 1.31  17.73 $\\pm$ 2.94   \n",
       "3_bar_extending   -3.46 $\\pm$ 0.59    2.0 $\\pm$ 1.34  -3.01 $\\pm$ 1.49   \n",
       "4_bar_retracting   12.59 $\\pm$ 2.1               NaN   21.9 $\\pm$ 3.69   \n",
       "4_bar_extending   -3.21 $\\pm$ 2.45               NaN  -0.53 $\\pm$ 1.72   \n",
       "5_bar_retracting    9.3 $\\pm$ 0.69               NaN               NaN   \n",
       "5_bar_extending   -4.84 $\\pm$ 1.47               NaN               NaN   \n",
       "6_bar_retracting  15.53 $\\pm$ 1.56               NaN               NaN   \n",
       "6_bar_extending   -4.59 $\\pm$ 2.52               NaN               NaN   \n",
       "7_bar_retracting   11.78 $\\pm$ 0.9               NaN               NaN   \n",
       "7_bar_extending    -5.2 $\\pm$ 1.89               NaN               NaN   \n",
       "\n",
       "                        Stadium_lc         Kidney_lc  \n",
       "Bar                                                   \n",
       "1_bar_retracting   8.24 $\\pm$ 0.68  15.95 $\\pm$ 2.03  \n",
       "1_bar_extending    -1.77 $\\pm$ 0.7  -8.29 $\\pm$ 1.65  \n",
       "2_bar_retracting  11.45 $\\pm$ 0.72  12.35 $\\pm$ 1.03  \n",
       "2_bar_extending    0.57 $\\pm$ 1.09  -2.88 $\\pm$ 1.14  \n",
       "3_bar_retracting  17.03 $\\pm$ 1.41  16.55 $\\pm$ 1.18  \n",
       "3_bar_extending    3.44 $\\pm$ 1.55  -1.16 $\\pm$ 1.92  \n",
       "4_bar_retracting  23.38 $\\pm$ 2.96  21.01 $\\pm$ 2.05  \n",
       "4_bar_extending     6.8 $\\pm$ 2.13   1.13 $\\pm$ 3.13  \n",
       "5_bar_retracting  26.95 $\\pm$ 3.45  25.54 $\\pm$ 3.21  \n",
       "5_bar_extending    6.09 $\\pm$ 2.42    3.51 $\\pm$ 4.0  \n",
       "6_bar_retracting               NaN  31.88 $\\pm$ 5.13  \n",
       "6_bar_extending                NaN    7.54 $\\pm$ 5.7  \n",
       "7_bar_retracting               NaN  37.15 $\\pm$ 5.64  \n",
       "7_bar_extending                NaN   12.95 $\\pm$ 8.0  "
      ]
     },
     "execution_count": 9,
     "metadata": {},
     "output_type": "execute_result"
    }
   ],
   "source": [
    "std_single_test_shapes\n",
    "# print(std_single_test_shapes.to_latex(escape=False))"
   ]
  },
  {
   "cell_type": "markdown",
   "id": "ea8b424a",
   "metadata": {},
   "source": [
    "#### Friction force range plot 25mm"
   ]
  },
  {
   "cell_type": "code",
   "execution_count": 10,
   "id": "99675ed9",
   "metadata": {},
   "outputs": [],
   "source": [
    "# Variables to make plotting of friction force range with standard error more clear\n",
    "fr = {'Pressure': [.1,.3,.5,.7],\n",
    "     'O_ring': [friction_force['O-ring'][i]['Mean_FrictionForce'] for i in friction_force['O-ring']],\n",
    "     'NAPN': [friction_force['NAPN'][i]['Mean_FrictionForce'] for i in friction_force['NAPN']],\n",
    "     'NAP310': [friction_force['NAP310'][i]['Mean_FrictionForce'] for i in friction_force['NAP310']],\n",
    "     'PK': [friction_force['PK'][i]['Mean_FrictionForce'] for i in friction_force['PK']],\n",
    "     'KDN': [friction_force['KDN'][i]['Mean_FrictionForce'] for i in friction_force['KDN']],\n",
    "     'O_ring257': [friction_force['O-ring257'][i]['Mean_FrictionForce'] for i in friction_force['O-ring257']],\n",
    "     'X_ring257': [friction_force['X-ring257'][i]['Mean_FrictionForce'] for i in friction_force['X-ring257']],\n",
    "    }\n",
    "fr = pd.DataFrame(data=fr)\n",
    "\n",
    "se = {'Pressure': [.1,.3,.5,.7],\n",
    "     'O_ring': [friction_force['O-ring'][i]['SE_FrictionForce'] for i in friction_force['O-ring']],\n",
    "     'NAPN': [friction_force['NAPN'][i]['SE_FrictionForce'] for i in friction_force['NAPN']],\n",
    "     'NAP310': [friction_force['NAP310'][i]['SE_FrictionForce'] for i in friction_force['NAP310']],\n",
    "     'PK': [friction_force['PK'][i]['SE_FrictionForce'] for i in friction_force['PK']],\n",
    "     'KDN': [friction_force['KDN'][i]['SE_FrictionForce'] for i in friction_force['KDN']],\n",
    "     'O_ring257': [friction_force['O-ring257'][i]['SE_FrictionForce'] for i in friction_force['O-ring257']],\n",
    "     'X_ring257': [friction_force['X-ring257'][i]['SE_FrictionForce'] for i in friction_force['X-ring257']],\n",
    "    }\n",
    "se = pd.DataFrame(data=se)"
   ]
  },
  {
   "cell_type": "code",
   "execution_count": 11,
   "id": "cf416e30",
   "metadata": {},
   "outputs": [
    {
     "data": {
      "text/plain": [
       "<Figure size 432x288 with 0 Axes>"
      ]
     },
     "metadata": {},
     "output_type": "display_data"
    }
   ],
   "source": [
    "# Visualize the friction force range - 25 mm cylinder\n",
    "plt.errorbar(fr.Pressure,fr.O_ring257,se.O_ring257,color='tab:blue',alpha=0.25, linestyle='dotted',linewidth=2,capsize=2)\n",
    "plt.errorbar(fr.Pressure,fr.X_ring257,se.X_ring257,color='tab:brown',alpha=0.25,linestyle=(0,(5,2,2)),capsize=2)\n",
    "plt.errorbar(fr.Pressure,fr.O_ring,se.O_ring,color='tab:blue',label='O-ring', linestyle='dotted',linewidth=2,capsize=2)\n",
    "plt.errorbar(fr.Pressure,fr.NAPN,se.NAPN,color='tab:orange',label='NAPN',linestyle='dashdot',capsize=2)\n",
    "plt.errorbar(fr.Pressure,fr.NAP310,se.NAP310,color='tab:green',label='NAP310', linestyle=(0,(5,2,2)),capsize=2)\n",
    "plt.errorbar(fr.Pressure,fr.PK,se.PK,color='tab:red',label='PK',linestyle='dashed',capsize=2)\n",
    "plt.errorbar(fr.Pressure,fr.KDN,se.KDN,color='tab:purple',label='KDN',linewidth=1,capsize=2)\n",
    "\n",
    "plt.xlabel('Pressure (MPa)')\n",
    "plt.ylabel('Dynamic friction force range (N)')\n",
    "plt.legend()\n",
    "plt.savefig('./figures/result_frictionforcerange_25mm.pdf',bbox_inches = 'tight')\n",
    "plt.clf()"
   ]
  },
  {
   "cell_type": "markdown",
   "id": "9c3172a8",
   "metadata": {},
   "source": [
    "#### Friction force range plot 25.7mm"
   ]
  },
  {
   "cell_type": "code",
   "execution_count": 12,
   "id": "677b2e2b",
   "metadata": {
    "scrolled": false
   },
   "outputs": [
    {
     "data": {
      "text/plain": [
       "<Figure size 432x288 with 0 Axes>"
      ]
     },
     "metadata": {},
     "output_type": "display_data"
    }
   ],
   "source": [
    "# Visualize the friction force range - 25.7 mm cylinder\n",
    "plt.errorbar(fr.Pressure,fr.O_ring,se.O_ring,color='tab:blue',alpha=0.25, linestyle='dotted',linewidth=2,capsize=2)\n",
    "plt.errorbar(fr.Pressure,fr.NAPN,se.NAPN,color='tab:orange',alpha=0.25,linestyle='dashdot',capsize=2)\n",
    "plt.errorbar(fr.Pressure,fr.NAP310,se.NAP310,color='tab:green',alpha=0.25, linestyle=(0,(5,2,2)),capsize=2)\n",
    "plt.errorbar(fr.Pressure,fr.PK,se.PK,color='tab:red',alpha=0.25,linestyle='dashed',capsize=2)\n",
    "plt.errorbar(fr.Pressure,fr.KDN,se.KDN,color='tab:purple',alpha=0.25,linewidth=1,capsize=2)\n",
    "plt.errorbar(fr.Pressure,fr.O_ring257,se.O_ring257,color='tab:blue',label='O-ring', linestyle='dotted',linewidth=2,capsize=2)\n",
    "plt.errorbar(fr.Pressure,fr.X_ring257,se.X_ring257,color='tab:brown',label='X-ring',linestyle=(0,(5,2,2)),capsize=2)\n",
    "\n",
    "plt.xlabel('Pressure (MPa)')\n",
    "plt.ylabel('Dynamic friction force range (N)')\n",
    "plt.legend()\n",
    "plt.savefig('./figures/result_frictionforcerange_257mm.pdf',bbox_inches = 'tight')\n",
    "plt.clf()"
   ]
  },
  {
   "cell_type": "markdown",
   "id": "dd2cc7e3",
   "metadata": {},
   "source": [
    "####  Friction force range plot different shapes"
   ]
  },
  {
   "cell_type": "code",
   "execution_count": 13,
   "id": "d57e28ea",
   "metadata": {},
   "outputs": [],
   "source": [
    "# Again variables to make plotting of friction force range with standard error more clear\n",
    "fr_s = {'Pressure': [.1,.2,.3],\n",
    "     'Stadium': [friction_force['Stadium'][i]['Mean_FrictionForce'] for i in friction_force['Stadium']],\n",
    "    }\n",
    "fr_s = pd.DataFrame(data=fr_s)\n",
    "\n",
    "se_s = {'Pressure': [.1,.2,.3],\n",
    "     'Stadium': [friction_force['Stadium'][i]['SE_FrictionForce'] for i in friction_force['Stadium']],\n",
    "    }\n",
    "se_s = pd.DataFrame(data=se_s)\n",
    "\n",
    "fr_ck = {'Pressure': [.1,.2,.3,.4],\n",
    "      'Circle': [friction_force['Circle'][i]['Mean_FrictionForce'] for i in friction_force['Circle']][:4],\n",
    "      'Kidney': [friction_force['Kidney'][i]['Mean_FrictionForce'] for i in friction_force['Kidney']],\n",
    "    }\n",
    "fr_ck = pd.DataFrame(data=fr_ck)\n",
    "\n",
    "se_ck = {'Pressure': [.1,.2,.3,.4],\n",
    "     'Circle': [friction_force['Circle'][i]['SE_FrictionForce'] for i in friction_force['Circle']][:4],\n",
    "     'Kidney': [friction_force['Kidney'][i]['SE_FrictionForce'] for i in friction_force['Kidney']],\n",
    "    }\n",
    "se_ck = pd.DataFrame(data=se_ck)"
   ]
  },
  {
   "cell_type": "code",
   "execution_count": 14,
   "id": "8cc78e8c",
   "metadata": {
    "scrolled": false
   },
   "outputs": [
    {
     "data": {
      "text/plain": [
       "<Figure size 432x288 with 0 Axes>"
      ]
     },
     "metadata": {},
     "output_type": "display_data"
    }
   ],
   "source": [
    "# Visualize the friction force range - different shapes\n",
    "plt.errorbar(fr_ck.Pressure,fr_ck.Circle,se_ck.Circle,color='0.8',label='Circle',linestyle='dotted',linewidth=2,capsize=2)\n",
    "plt.errorbar(fr_s.Pressure,fr_s.Stadium,se_s.Stadium,color='tab:olive', label='Stadium',linestyle='dashdot',capsize=2)\n",
    "plt.errorbar(fr_ck.Pressure,fr_ck.Kidney,se_ck.Kidney,color='tab:cyan', label='Kidney',capsize=2)\n",
    "\n",
    "plt.xlabel('Pressure (MPa)')\n",
    "plt.ylabel('Dynamic friction force range (N)')\n",
    "plt.legend(loc='lower center',bbox_to_anchor=(0.5,-0.3),ncol=3)\n",
    "plt.savefig('./figures/result_frictionforcerange_shape.pdf',bbox_inches = 'tight')\n",
    "plt.clf()"
   ]
  },
  {
   "cell_type": "markdown",
   "id": "61d1aabe",
   "metadata": {},
   "source": [
    "####  Friction force range plot different shapes with lower clearance"
   ]
  },
  {
   "cell_type": "code",
   "execution_count": 15,
   "id": "59f513b8",
   "metadata": {
    "scrolled": false
   },
   "outputs": [],
   "source": [
    "# Again variables to make plotting of friction force range with standard error more clear\n",
    "fr_s_lc = {'Pressure': [.1,.2,.3,.4,.5],\n",
    "     'Stadium_lc': [friction_force['Stadium_lc'][i]['Mean_FrictionForce'] for i in friction_force['Stadium_lc']],\n",
    "    }\n",
    "fr_s_lc = pd.DataFrame(data=fr_s_lc)\n",
    "\n",
    "se_s_lc = {'Pressure': [.1,.2,.3,.4,.5],\n",
    "     'Stadium_lc': [friction_force['Stadium_lc'][i]['SE_FrictionForce'] for i in friction_force['Stadium_lc']],\n",
    "    }\n",
    "se_s_lc = pd.DataFrame(data=se_s_lc)\n",
    "\n",
    "fr_lc = {'Pressure': [.1,.2,.3,.4,.5,.6,.7],\n",
    "      'Kidney_lc': [friction_force['Kidney_lc'][i]['Mean_FrictionForce'] for i in friction_force['Kidney_lc']],\n",
    "      'Circle': [friction_force['Circle'][i]['Mean_FrictionForce'] for i in friction_force['Circle']],\n",
    "    }\n",
    "fr_lc = pd.DataFrame(data=fr_lc)\n",
    "\n",
    "se_lc = {'Pressure': [.1,.2,.3,.4,.5,.6,.7],\n",
    "      'Kidney_lc': [friction_force['Kidney_lc'][i]['SE_FrictionForce'] for i in friction_force['Kidney_lc']],\n",
    "      'Circle': [friction_force['Circle'][i]['SE_FrictionForce'] for i in friction_force['Circle']],\n",
    "    }\n",
    "se_lc = pd.DataFrame(data=se_lc)"
   ]
  },
  {
   "cell_type": "code",
   "execution_count": 16,
   "id": "8d780d7c",
   "metadata": {},
   "outputs": [
    {
     "data": {
      "text/plain": [
       "<Figure size 432x288 with 0 Axes>"
      ]
     },
     "metadata": {},
     "output_type": "display_data"
    }
   ],
   "source": [
    "# Visualize the friction force range - different shapes low clearance\n",
    "plt.errorbar(fr_s.Pressure,fr_s.Stadium,se_s.Stadium,linestyle='dashdot',color='tab:olive', alpha=0.5, label='Stadium 0.5 mm clearance',capsize=2)\n",
    "plt.errorbar(fr_ck.Pressure,fr_ck.Kidney,se_ck.Kidney,color='tab:cyan', alpha=0.5, label='Kidney 0.5 mm clearance',capsize=2)\n",
    "plt.errorbar(fr_lc.Pressure,fr_lc.Circle,se_lc.Circle,linestyle='dotted',color='0.8', alpha=0.5, label='Circle 0.5 mm clearance',linewidth = 2, capsize=2)\n",
    "plt.errorbar(fr_s_lc.Pressure,fr_s_lc.Stadium_lc,se_s_lc.Stadium_lc,linestyle='dashdot',color='tab:olive', label='Stadium 0.2 mm clearance', linewidth = 2,capsize=2)\n",
    "plt.errorbar(fr_lc.Pressure,fr_lc.Kidney_lc,se_lc.Kidney_lc,color='tab:cyan', label='Kidney 0.2 mm clearance', linewidth = 2,capsize=2)\n",
    "\n",
    "plt.xlabel('Pressure (MPa)')\n",
    "plt.ylabel('Dynamic friction force range (N)')\n",
    "plt.legend(loc='lower center',bbox_to_anchor=(0.5,-0.42),ncol=2)\n",
    "plt.savefig('./figures/app_frictionforcerange_shapes_lc.pdf',bbox_inches = 'tight')\n",
    "plt.clf()"
   ]
  },
  {
   "cell_type": "markdown",
   "id": "47067986",
   "metadata": {},
   "source": [
    "# Repeatablilty"
   ]
  },
  {
   "cell_type": "markdown",
   "id": "79ceceb8",
   "metadata": {},
   "source": [
    "We performed two repeatability tests\n",
    "- The test was rerun without any changes in the connections (rerun)\n",
    "- The model was reconnected prior to taking the tests (reconnected)"
   ]
  },
  {
   "cell_type": "markdown",
   "id": "ee157130",
   "metadata": {},
   "source": [
    "### Rerun"
   ]
  },
  {
   "cell_type": "code",
   "execution_count": 17,
   "id": "47baafbf",
   "metadata": {},
   "outputs": [],
   "source": [
    "# Define a dictionary to store all data from the repeated test for O-ring 25.7 mm\n",
    "# For each model all variables are stored in this nested dictionary\n",
    "friction_rerun = {}\n",
    "\n",
    "# For each repeated test\n",
    "for test in range(1,4):\n",
    "    friction_rerun[test] = {}\n",
    "    for bar in [1,3,5,7]:\n",
    "        # Load the data of the corresponding results in .CSV and drop unncessary columns\n",
    "        test_df = pd.read_csv(f'./data/repeatability/rerun/friction/{test}_O-ring257_{bar}bar.csv',delimiter='\\s+',header=None,names=(['Time','A','B','C','Laser(mm)','Pressure(bar)','Force(N)']))\n",
    "        test_df.drop(columns=['A','B','C'],index=test_df.index[range(drop_amount)],axis=1,inplace=True)\n",
    "\n",
    "        # Store the data in our larger dictionary\n",
    "        friction_rerun[test][bar] = {}\n",
    "        # Set the time (in s) and laser (in mm)\n",
    "        friction_rerun[test][bar]['Time'] = test_df['Time']/1000\n",
    "        friction_rerun[test][bar]['Laser(mm)'] = test_df['Laser(mm)']\n",
    "        # Set the pressure (in MPa) and force (in N)\n",
    "        friction_rerun[test][bar]['Pressure(bar)'] = test_df['Pressure(bar)']/10\n",
    "        friction_rerun[test][bar]['Force(N)'] = test_df['Force(N)']\n",
    "\n",
    "        # Calculate force Fp based on the measured pressure\n",
    "        # The 25.7 mm rings have a different and larger surface area (see equation 2 in the report)\n",
    "        Fp = test_df['Pressure(bar)'] * 10**5 * large_area\n",
    "        \n",
    "        # Calculate the friction force by substracting the measured force with Fp (see equation 3 in the report)\n",
    "        friction_rerun[test][bar]['FrictionForce'] = test_df['Force(N)'] - Fp      "
   ]
  },
  {
   "cell_type": "code",
   "execution_count": 18,
   "id": "6f1c1c1a",
   "metadata": {},
   "outputs": [],
   "source": [
    "# For each test use the calculate_se() function to acquire the mean friction force and standard error\n",
    "for test in range(1,4):    \n",
    "    for bar in [1,3,5,7]:\n",
    "        mean_ff,se_ff,_,_ = calculate_se(friction_rerun,test,bar)\n",
    "        friction_rerun[test][bar]['SE_FrictionForce'] = se_ff\n",
    "        friction_rerun[test][bar]['Mean_FrictionForce'] = mean_ff"
   ]
  },
  {
   "cell_type": "code",
   "execution_count": 19,
   "id": "d4b47010",
   "metadata": {},
   "outputs": [],
   "source": [
    "# Again variables to make plotting of friction force range with standard error more clear\n",
    "fr_rerun = {'Pressure': [.1,.3,.5,.7],\n",
    "     1: [friction_rerun[1][i]['Mean_FrictionForce'] for i in friction_rerun[1]],\n",
    "     2: [friction_rerun[2][i]['Mean_FrictionForce'] for i in friction_rerun[2]],\n",
    "     3: [friction_rerun[3][i]['Mean_FrictionForce'] for i in friction_rerun[3]],\n",
    "    }\n",
    "fr_rerun = pd.DataFrame(data=fr_rerun)\n",
    "\n",
    "se_rerun = {'Pressure': [.1,.3,.5,.7],\n",
    "     1: [friction_rerun[1][i]['SE_FrictionForce'] for i in friction_rerun[1]],\n",
    "     2: [friction_rerun[2][i]['SE_FrictionForce'] for i in friction_rerun[2]],\n",
    "     3: [friction_rerun[3][i]['SE_FrictionForce'] for i in friction_rerun[3]],\n",
    "    }\n",
    "se_rerun = pd.DataFrame(data=se_rerun)"
   ]
  },
  {
   "cell_type": "code",
   "execution_count": 20,
   "id": "612e6bb8",
   "metadata": {},
   "outputs": [
    {
     "data": {
      "text/plain": [
       "<Figure size 432x288 with 0 Axes>"
      ]
     },
     "metadata": {},
     "output_type": "display_data"
    }
   ],
   "source": [
    "# Visualize the repeated tests with all other models for clarity\n",
    "plt.errorbar(fr.Pressure,fr.O_ring257,se.O_ring257,color='tab:grey',alpha=0.25, linestyle='dotted',linewidth=2,capsize=2)\n",
    "plt.errorbar(fr.Pressure,fr.X_ring257,se.X_ring257,color='tab:grey',alpha=0.25,linestyle=(0,(5,2,2)),capsize=2)\n",
    "plt.errorbar(fr.Pressure,fr.O_ring,se.O_ring,color='tab:grey',alpha=0.25,linestyle='dotted',linewidth=2,capsize=2)\n",
    "plt.errorbar(fr.Pressure,fr.NAPN,se.NAPN,color='tab:grey',alpha=0.25,linestyle='dashdot',capsize=2)\n",
    "plt.errorbar(fr.Pressure,fr.NAP310,se.NAP310,color='tab:grey',alpha=0.25, linestyle=(0,(5,2,2)),capsize=2)\n",
    "plt.errorbar(fr.Pressure,fr.PK,se.PK,color='tab:grey',alpha=0.25,linestyle='dashed',capsize=2)\n",
    "plt.errorbar(fr.Pressure,fr.KDN,se.KDN,color='tab:grey',alpha=0.25,linewidth=1,capsize=2)\n",
    "\n",
    "plt.errorbar(fr_rerun.Pressure,fr_rerun[1],se_rerun[1],color='red',label='Test 1',capsize=2)\n",
    "plt.errorbar(fr_rerun.Pressure,fr_rerun[2],se_rerun[2],color='firebrick',label='Test 2',capsize=2)\n",
    "plt.errorbar(fr_rerun.Pressure,fr_rerun[3],se_rerun[3],color='darkred',label='Test 3',capsize=2)\n",
    "\n",
    "plt.xlabel('Pressure (MPa)')\n",
    "plt.ylabel('Dynamic friction force range (N)')\n",
    "plt.legend()\n",
    "plt.savefig('./figures/app_frictionforcerange_rerun.pdf',bbox_inches = 'tight')\n",
    "plt.clf()"
   ]
  },
  {
   "cell_type": "markdown",
   "id": "731fb3cc",
   "metadata": {},
   "source": [
    "### Reconnected"
   ]
  },
  {
   "cell_type": "code",
   "execution_count": 21,
   "id": "2d3ff18f",
   "metadata": {},
   "outputs": [],
   "source": [
    "# Define a dictionary to store all data from the repeated test for O-ring 25.7 mm\n",
    "# For each model all variables are stored in this nested dictionary\n",
    "friction_reconnected = {}\n",
    "\n",
    "# For each repeated test\n",
    "for test in range(1,4):\n",
    "    friction_reconnected[test] = {}\n",
    "    for bar in [1,3,5,7]:\n",
    "        # Load the data of the corresponding results in .CSV and drop unncessary columns\n",
    "        test_df = pd.read_csv(f'./data/repeatability/reconnected/friction/{test}_O-ring257_{bar}bar.csv',delimiter='\\s+',header=None,names=(['Time','A','B','C','Laser(mm)','Pressure(bar)','Force(N)']))\n",
    "        test_df.drop(columns=['A','B','C'],index=test_df.index[range(drop_amount)],axis=1,inplace=True)\n",
    "\n",
    "        # Store the data in our larger dictionary\n",
    "        friction_reconnected[test][bar] = {}\n",
    "        # Set the time (in s) and laser (in mm)\n",
    "        friction_reconnected[test][bar]['Time'] = test_df['Time']/1000\n",
    "        friction_reconnected[test][bar]['Laser(mm)'] = test_df['Laser(mm)']\n",
    "        # Set the pressure (in MPa) and force (in N)\n",
    "        friction_reconnected[test][bar]['Pressure(bar)'] = test_df['Pressure(bar)']/10\n",
    "        friction_reconnected[test][bar]['Force(N)'] = test_df['Force(N)']\n",
    "\n",
    "        # Calculate force Fp based on the measured pressure\n",
    "        # The 25.7 mm rings have a different and larger surface area (see equation 2 in the report)\n",
    "        Fp = test_df['Pressure(bar)'] * 10**5 * large_area\n",
    "        \n",
    "        # Calculate the friction force by substracting the measured force with Fp (see equation 3 in the report)\n",
    "        friction_reconnected[test][bar]['FrictionForce'] = test_df['Force(N)'] - Fp"
   ]
  },
  {
   "cell_type": "code",
   "execution_count": 22,
   "id": "f012fc8f",
   "metadata": {},
   "outputs": [],
   "source": [
    "# For each test use the calculate_se() function to acquire the mean friction force and standard error\n",
    "for test in range(1,4):    \n",
    "    for bar in [1,3,5,7]:\n",
    "        mean_ff,se_ff,_,_ = calculate_se(friction_reconnected,test,bar)\n",
    "        friction_reconnected[test][bar]['SE_FrictionForce'] = se_ff\n",
    "        friction_reconnected[test][bar]['Mean_FrictionForce'] = mean_ff"
   ]
  },
  {
   "cell_type": "code",
   "execution_count": 23,
   "id": "e7a4eff7",
   "metadata": {},
   "outputs": [],
   "source": [
    "# Again variables to make plotting of friction force range with standard error more clear\n",
    "fr_reconnected = {'Pressure': [.1,.3,.5,.7],\n",
    "     1: [friction_reconnected[1][i]['Mean_FrictionForce'] for i in friction_reconnected[1]],\n",
    "     2: [friction_reconnected[2][i]['Mean_FrictionForce'] for i in friction_reconnected[2]],\n",
    "     3: [friction_reconnected[3][i]['Mean_FrictionForce'] for i in friction_reconnected[3]],\n",
    "    }\n",
    "fr_reconnected = pd.DataFrame(data=fr_reconnected)\n",
    "\n",
    "se_reconnected = {'Pressure': [.1,.3,.5,.7],\n",
    "     1: [friction_reconnected[1][i]['SE_FrictionForce'] for i in friction_reconnected[1]],\n",
    "     2: [friction_reconnected[2][i]['SE_FrictionForce'] for i in friction_reconnected[2]],\n",
    "     3: [friction_reconnected[3][i]['SE_FrictionForce'] for i in friction_reconnected[3]],\n",
    "    }\n",
    "se_reconnected = pd.DataFrame(data=se_reconnected)"
   ]
  },
  {
   "cell_type": "code",
   "execution_count": 24,
   "id": "f7c670fb",
   "metadata": {
    "scrolled": true
   },
   "outputs": [
    {
     "data": {
      "text/plain": [
       "<Figure size 432x288 with 0 Axes>"
      ]
     },
     "metadata": {},
     "output_type": "display_data"
    }
   ],
   "source": [
    "# Visualize the repeated tests with all other models for clarity\n",
    "plt.errorbar(fr.Pressure,fr.O_ring257,se.O_ring257,color='tab:grey',alpha=0.25, linestyle='dotted',linewidth=2,capsize=2)\n",
    "plt.errorbar(fr.Pressure,fr.X_ring257,se.X_ring257,color='tab:grey',alpha=0.25,linestyle=(0,(5,2,2)),capsize=2)\n",
    "plt.errorbar(fr.Pressure,fr.O_ring,se.O_ring,color='tab:grey',alpha=0.25,linestyle='dotted',linewidth=2,capsize=2)\n",
    "plt.errorbar(fr.Pressure,fr.NAPN,se.NAPN,color='tab:grey',alpha=0.25,linestyle='dashdot',capsize=2)\n",
    "plt.errorbar(fr.Pressure,fr.NAP310,se.NAP310,color='tab:grey',alpha=0.25, linestyle=(0,(5,2,2)),capsize=2)\n",
    "plt.errorbar(fr.Pressure,fr.PK,se.PK,color='tab:grey',alpha=0.25,linestyle='dashed',capsize=2)\n",
    "plt.errorbar(fr.Pressure,fr.KDN,se.KDN,color='tab:grey',alpha=0.25,linewidth=1,capsize=2)\n",
    "\n",
    "plt.errorbar(fr_reconnected.Pressure,fr_reconnected[1],se_reconnected[1],color='skyblue',label='Test 1',capsize=2)\n",
    "plt.errorbar(fr_reconnected.Pressure,fr_reconnected[2],se_reconnected[2],color='cornflowerblue',label='Test 2',capsize=2)\n",
    "plt.errorbar(fr_reconnected.Pressure,fr_reconnected[3],se_reconnected[3],color='steelblue',label='Test 3',capsize=2)\n",
    "\n",
    "plt.xlabel('Pressure (MPa)')\n",
    "plt.ylabel('Dynamic friction force range (N)')\n",
    "plt.legend()\n",
    "plt.savefig('./figures/app_frictionforcerange_reconnected.pdf',bbox_inches = 'tight')\n",
    "plt.clf()"
   ]
  },
  {
   "cell_type": "markdown",
   "id": "352a5eda",
   "metadata": {},
   "source": [
    "# Velocity calculation"
   ]
  },
  {
   "cell_type": "markdown",
   "id": "baaff9cf",
   "metadata": {},
   "source": [
    "To fairly compare the calculated friction force range to the friction force of conventional pneumatic actuators, we have to take the velocity of the piston into account. For this we calculate the velocity of the piston during the tests. "
   ]
  },
  {
   "cell_type": "code",
   "execution_count": 25,
   "id": "d5a77680",
   "metadata": {},
   "outputs": [],
   "source": [
    "# We will only calculate the speeds for specifically the O-ring - 3 bar\n",
    "time = list(friction_force['O-ring'][3]['Time'])\n",
    "laser = list(friction_force['O-ring'][3]['Laser(mm)'])"
   ]
  },
  {
   "cell_type": "code",
   "execution_count": 26,
   "id": "33d12b73",
   "metadata": {
    "scrolled": false
   },
   "outputs": [],
   "source": [
    "# Boolean variables to keep track of which peak we are looking for next (low or high)\n",
    "high_peak_found = False\n",
    "low_peak_found = False\n",
    "\n",
    "# The peaks will be stored in lists as tuples\n",
    "high_peaks = []\n",
    "low_peaks = []\n",
    "\n",
    "# For each distance measured by the laser, find both peaks\n",
    "for cur_distance in range(0,len(laser)):\n",
    "    # Get the previous and next distance points of the laser\n",
    "    previous_distances = laser[cur_distance-20:cur_distance]\n",
    "    next_distances = laser[cur_distance:cur_distance+20]\n",
    "    \n",
    "    # Make sure both lists are not empty\n",
    "    if previous_distances != [] and next_distances != []:\n",
    "        # A peak can be found if the distance is higher (or lower) than all the surrounding distances\n",
    "        if (all(laser[cur_distance] >= i for i in previous_distances) and all(laser[cur_distance] >= i for i in next_distances)) == True and high_peak_found == False:\n",
    "            # If this is true, add the distance and time to our list\n",
    "            high_peaks.append((laser[cur_distance], time[cur_distance]))\n",
    "            # A high peak has been found, next will be a low peak\n",
    "            high_peak_found = True\n",
    "            low_peak_found = False\n",
    "        # The next peak can be found if the distance is higher (or lower) than all the surrounding distances\n",
    "        if (all(laser[cur_distance] <= i for i in previous_distances) and all(laser[cur_distance] <= i for i in next_distances)) == True and low_peak_found == False:\n",
    "            low_peaks.append((laser[cur_distance], time[cur_distance]))\n",
    "            low_peak_found = True\n",
    "            high_peak_found = False"
   ]
  },
  {
   "cell_type": "code",
   "execution_count": 27,
   "id": "b16a86c5",
   "metadata": {},
   "outputs": [],
   "source": [
    "# List to store extending speeds for each run\n",
    "extending_speeds = []\n",
    "# For each high peak, calculate the speed\n",
    "for i in range(0, len(high_peaks)):\n",
    "    # Delta distance (in mm) is the difference between the high peak and next low peak\n",
    "    delta_distance = high_peaks[i][0] - low_peaks[i][0]\n",
    "    # Same goes for the time (in s)\n",
    "    delta_time = high_peaks[i][1] - low_peaks[i][1]\n",
    "    # Calculate speed (in mm/s)\n",
    "    speed = delta_distance/delta_time\n",
    "    # Add speed to our list\n",
    "    extending_speeds.append(speed)"
   ]
  },
  {
   "cell_type": "code",
   "execution_count": 28,
   "id": "aa78d666",
   "metadata": {},
   "outputs": [],
   "source": [
    "# List to store extending speeds for each run\n",
    "retracting_speeds = []\n",
    "# For each low peak, calculate the speed\n",
    "for i in range(0, len(low_peaks)-1):\n",
    "    # Delta distance (in mm) is the difference between the low peak and next high peak (therefore +1)\n",
    "    delta_distance = low_peaks[i][0] - high_peaks[i+1][0]\n",
    "    # Same goes for the time (in s)\n",
    "    delta_time =  low_peaks[i][1] - high_peaks[i+1][1]\n",
    "    # Calculate speed (in mm/s)\n",
    "    speed = delta_distance/delta_time\n",
    "    # Add speed to our list\n",
    "    retracting_speeds.append(speed)"
   ]
  },
  {
   "cell_type": "code",
   "execution_count": 29,
   "id": "671226fd",
   "metadata": {
    "scrolled": true
   },
   "outputs": [
    {
     "name": "stdout",
     "output_type": "stream",
     "text": [
      "Average extending speed at a pressure of 0.3MPa: -11.476229877293903 mm/s\n",
      "Average retracting speed at a pressure of 0.3MPa: 7.8119239520317905 mm/s\n"
     ]
    }
   ],
   "source": [
    "print(f'Average extending speed at a pressure of 0.3MPa: {mean(extending_speeds)} mm/s')\n",
    "print(f'Average retracting speed at a pressure of 0.3MPa: {mean(retracting_speeds)} mm/s')"
   ]
  }
 ],
 "metadata": {
  "kernelspec": {
   "display_name": "Python 3",
   "language": "python",
   "name": "python3"
  },
  "language_info": {
   "codemirror_mode": {
    "name": "ipython",
    "version": 3
   },
   "file_extension": ".py",
   "mimetype": "text/x-python",
   "name": "python",
   "nbconvert_exporter": "python",
   "pygments_lexer": "ipython3",
   "version": "3.8.2"
  }
 },
 "nbformat": 4,
 "nbformat_minor": 5
}

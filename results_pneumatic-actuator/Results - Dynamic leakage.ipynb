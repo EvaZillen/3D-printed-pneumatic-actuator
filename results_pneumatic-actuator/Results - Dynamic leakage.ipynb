{
 "cells": [
  {
   "cell_type": "code",
   "execution_count": 1,
   "id": "ee279756",
   "metadata": {},
   "outputs": [],
   "source": [
    "#!/usr/bin/env python\n",
    "# -*- coding: utf-8 -*-\n",
    "\n",
    "\"\"\"\n",
    "In this script, the results of the dynamic leakage tests are visualised.\n",
    "All visualisations are stored in /figures/\n",
    "\n",
    "To show the visualisations in this Notebook, remove or comment plt.clf() after plt.savefig()\n",
    "\"\"\"\n",
    "\n",
    "__author__ = \"Eva Zillen\"\n",
    "__copyright__ = \"Copyright 2021, TU Delft Biomechanical Design\"\n",
    "__credits__ = [\"Eva Zillen, Heike Vallery, Gerwin Smit\"]\n",
    "__license__ = \"CC0-1.0 License\"\n",
    "__version__ = \"1.0.0\"\n",
    "__maintainer__ = \"Eva Zillen\"\n",
    "__email__ = \"e.zillen@student.tudelft.nl\""
   ]
  },
  {
   "cell_type": "markdown",
   "id": "ca026e0d",
   "metadata": {},
   "source": [
    "#### Imports"
   ]
  },
  {
   "cell_type": "code",
   "execution_count": 2,
   "id": "ac5ab237",
   "metadata": {},
   "outputs": [],
   "source": [
    "import math\n",
    "import pandas as pd\n",
    "import matplotlib.pyplot as plt\n",
    "import numpy as np"
   ]
  },
  {
   "cell_type": "markdown",
   "id": "fe57ff50",
   "metadata": {},
   "source": [
    "#### Global variables"
   ]
  },
  {
   "cell_type": "code",
   "execution_count": 3,
   "id": "501bdfc9",
   "metadata": {},
   "outputs": [],
   "source": [
    "# The models with different sealing mechanism used in this test\n",
    "rings = ['O-ring','NAPN','NAP310','PK','KDN','O-ring257','X-ring257']\n",
    "# The models with different cross-sectional shape used in this test\n",
    "shapes = ['Circle','Stadium','Kidney', 'Stadium_lc', 'Kidney_lc']\n",
    "# Remove first 15 data points to avoid deviating starting values\n",
    "drop_amount = 15 "
   ]
  },
  {
   "cell_type": "markdown",
   "id": "b1f14379",
   "metadata": {},
   "source": [
    "# Dynamic leakage test"
   ]
  },
  {
   "cell_type": "code",
   "execution_count": 4,
   "id": "1da633d4",
   "metadata": {},
   "outputs": [],
   "source": [
    "# The position in the piston where the pressure is compared (in mm)\n",
    "alpha = {\n",
    "    'O-ring': 37.7,\n",
    "    'NAPN': 38,\n",
    "    'NAP310': 37.7,\n",
    "    'PK': 37.8,\n",
    "    'KDN': 37.7,\n",
    "    'O-ring257': 37.7,\n",
    "    'X-ring257': 37.7,\n",
    "    'Circle': 36.9,\n",
    "    'Stadium': 38.5,\n",
    "    'Kidney': 39.3,\n",
    "    'Stadium_lc': 38.5,\n",
    "    'Kidney_lc': 37.4,\n",
    "}\n",
    "\n",
    "# All the pressures are selected where the laser sensor provided the value alpha +/- 0.02 mm\n",
    "margin = 0.02"
   ]
  },
  {
   "cell_type": "code",
   "execution_count": 5,
   "id": "369bbcb1",
   "metadata": {},
   "outputs": [],
   "source": [
    "# Define a dictionary to store all data from the dynamic tests\n",
    "# For each ring all variables are stored in this nested dictionary\n",
    "dynamic_leakage = {}\n",
    "\n",
    "# For each model type\n",
    "for model in rings+shapes:\n",
    "    # Load the data of the corresponding results in .CSV and drop unncessary columns\n",
    "    model_df = pd.read_csv(f'./data/dynamic/{model}.csv',delimiter='\\s+',header=None,names=(['Time','A','B','C','Laser(mm)','Pressure(bar)','Force(N)']))\n",
    "    model_df.drop(columns=['A','B','C'],index=model_df.index[range(drop_amount)],axis=1,inplace=True)\n",
    "    \n",
    "    # Selecting the data points around the chosen position with the chosen margin\n",
    "    model_df = model_df[(model_df['Laser(mm)'] > (alpha[model]-margin)) & (model_df['Laser(mm)'] < (alpha[model]+margin))]\n",
    "\n",
    "    # Store the data in our larger dictionary\n",
    "    dynamic_leakage[model] = {}\n",
    "    # Set the time (in s)\n",
    "    dynamic_leakage[model]['Time'] = model_df['Time']/1000\n",
    "    dynamic_leakage[model]['Laser(mm)'] = model_df['Laser(mm)']\n",
    "    # Set the pressure (in MPa)\n",
    "    dynamic_leakage[model]['Pressure(bar)'] = model_df['Pressure(bar)']/10\n"
   ]
  },
  {
   "cell_type": "markdown",
   "id": "52be8da2",
   "metadata": {},
   "source": [
    "#### Dynamic leakage plot 25mm"
   ]
  },
  {
   "cell_type": "code",
   "execution_count": 6,
   "id": "3f5e902e",
   "metadata": {},
   "outputs": [
    {
     "data": {
      "text/plain": [
       "<Figure size 432x288 with 0 Axes>"
      ]
     },
     "metadata": {},
     "output_type": "display_data"
    }
   ],
   "source": [
    "# To smoothen out the lines a sampling [::4] and a rolling window of 10 are applied\n",
    "plt.plot(dynamic_leakage['O-ring257']['Time'][::4],dynamic_leakage['O-ring257']['Pressure(bar)'].rolling(window=10).mean()[::4],'tab:blue', alpha=0.25, linestyle='dotted',linewidth=3)   \n",
    "plt.plot(dynamic_leakage['X-ring257']['Time'][::4],dynamic_leakage['X-ring257']['Pressure(bar)'].rolling(window=10).mean()[::4],'tab:brown', alpha=0.25, linestyle=(0,(5,2,2)))\n",
    "plt.plot(dynamic_leakage['O-ring']['Time'][::4],dynamic_leakage['O-ring']['Pressure(bar)'].rolling(window=10).mean()[::4],'tab:blue',label='O-ring', linestyle='dotted',linewidth=3)\n",
    "plt.plot(dynamic_leakage['NAPN']['Time'][::4],dynamic_leakage['NAPN']['Pressure(bar)'].rolling(window=10).mean()[::4],'tab:orange',label='NAPN',linestyle='dashdot')\n",
    "plt.plot(dynamic_leakage['NAP310']['Time'][::4],dynamic_leakage['NAP310']['Pressure(bar)'].rolling(window=10).mean()[::4],'tab:green',label='NAP 310', linestyle=(0,(5,2,2)))\n",
    "plt.plot(dynamic_leakage['PK']['Time'][::4],dynamic_leakage['PK']['Pressure(bar)'].rolling(window=10).mean()[::4],'tab:red',label='PK',linestyle='dashed')\n",
    "plt.plot(dynamic_leakage['KDN']['Time'][::4],dynamic_leakage['KDN']['Pressure(bar)'].rolling(window=10).mean()[::4],'tab:purple',label='KDN')\n",
    "\n",
    "# Set the labels and save the figure\n",
    "plt.xlabel('Time (s)')\n",
    "plt.ylabel('Pressure (MPa)')\n",
    "plt.legend()\n",
    "plt.savefig('./figures/result_dynamic_leakage_25mm.pdf',bbox_inches = 'tight')\n",
    "plt.clf()"
   ]
  },
  {
   "cell_type": "markdown",
   "id": "0687d5d9",
   "metadata": {},
   "source": [
    "#### Dynamic leakage plot 25.7mm"
   ]
  },
  {
   "cell_type": "code",
   "execution_count": 7,
   "id": "c56d2366",
   "metadata": {
    "scrolled": false
   },
   "outputs": [
    {
     "data": {
      "text/plain": [
       "<Figure size 432x288 with 0 Axes>"
      ]
     },
     "metadata": {},
     "output_type": "display_data"
    }
   ],
   "source": [
    "# To smoothen out the lines a sampling [::4] and a rolling window of 10 are applied\n",
    "plt.plot(dynamic_leakage['O-ring']['Time'][::4],dynamic_leakage['O-ring']['Pressure(bar)'].rolling(window=10).mean()[::4],'tab:blue', alpha=0.25, linestyle='dotted',linewidth=3)\n",
    "plt.plot(dynamic_leakage['NAPN']['Time'][::4],dynamic_leakage['NAPN']['Pressure(bar)'].rolling(window=10).mean()[::4],'tab:orange',alpha=0.25,linestyle='dashdot')\n",
    "plt.plot(dynamic_leakage['NAP310']['Time'][::4],dynamic_leakage['NAP310']['Pressure(bar)'].rolling(window=10).mean()[::4],'tab:green',alpha=0.25, linestyle=(0,(5,2,2)))\n",
    "plt.plot(dynamic_leakage['PK']['Time'][::4],dynamic_leakage['PK']['Pressure(bar)'].rolling(window=10).mean()[::4],'tab:red',alpha=0.25,linestyle='dashed')\n",
    "plt.plot(dynamic_leakage['KDN']['Time'][::4],dynamic_leakage['KDN']['Pressure(bar)'].rolling(window=10).mean()[::4],'tab:purple',alpha=0.25)\n",
    "plt.plot(dynamic_leakage['O-ring257']['Time'][::4],dynamic_leakage['O-ring257']['Pressure(bar)'].rolling(window=10).mean()[::4],'tab:blue',label='O-ring', linestyle='dotted',linewidth=3)  \n",
    "plt.plot(dynamic_leakage['X-ring257']['Time'][::4],dynamic_leakage['X-ring257']['Pressure(bar)'].rolling(window=10).mean()[::4],'tab:brown',label='X-ring', linestyle=(0,(5,2,2)))\n",
    "\n",
    "# Set the labels and save the figure\n",
    "plt.xlabel('Time (s)')\n",
    "plt.ylabel('Pressure (MPa)')\n",
    "plt.legend()\n",
    "plt.savefig('./figures/result_dynamic_leakage_257mm.pdf',bbox_inches = 'tight')\n",
    "plt.clf()"
   ]
  },
  {
   "cell_type": "markdown",
   "id": "ef63c8b5",
   "metadata": {},
   "source": [
    "#### Dynamic leakage plot different shapes"
   ]
  },
  {
   "cell_type": "code",
   "execution_count": 8,
   "id": "105bfc61",
   "metadata": {
    "scrolled": true
   },
   "outputs": [
    {
     "data": {
      "text/plain": [
       "<Figure size 432x288 with 0 Axes>"
      ]
     },
     "metadata": {},
     "output_type": "display_data"
    }
   ],
   "source": [
    "# To smoothen out the lines a rolling window of 10 are applied\n",
    "plt.plot(dynamic_leakage['Circle']['Time'],dynamic_leakage['Circle']['Pressure(bar)'].rolling(window=10).mean(),'0.8',label='Circle', linestyle='dotted',linewidth=3)   \n",
    "plt.plot(dynamic_leakage['Stadium']['Time'],dynamic_leakage['Stadium']['Pressure(bar)'].rolling(window=10).mean(),'tab:olive',label='Stadium',linestyle='dashdot')   \n",
    "plt.plot(dynamic_leakage['Kidney']['Time'],dynamic_leakage['Kidney']['Pressure(bar)'].rolling(window=10).mean(),'tab:cyan',label='Kidney')\n",
    "\n",
    "# Set the labels and save the figure\n",
    "plt.xlabel('Time (s)')\n",
    "plt.ylabel('Pressure (MPa)')\n",
    "plt.legend()\n",
    "plt.savefig('./figures/result_dynamic_leakage_shapes.pdf',bbox_inches = 'tight')\n",
    "plt.clf()\n"
   ]
  },
  {
   "cell_type": "markdown",
   "id": "c3273cb5",
   "metadata": {},
   "source": [
    "#### Dynamic leakage plot different shapes with lower clearance"
   ]
  },
  {
   "cell_type": "code",
   "execution_count": 9,
   "id": "f17e50fb",
   "metadata": {},
   "outputs": [
    {
     "data": {
      "text/plain": [
       "<Figure size 432x288 with 0 Axes>"
      ]
     },
     "metadata": {},
     "output_type": "display_data"
    }
   ],
   "source": [
    "# To smoothen out the lines a rolling window of 10 are applied\n",
    "plt.plot(dynamic_leakage['Stadium']['Time'],dynamic_leakage['Stadium']['Pressure(bar)'].rolling(window=10).mean(),'tab:olive',alpha=0.5,label='Stadium 0.5 mm clearance',linestyle='dashdot')   \n",
    "plt.plot(dynamic_leakage['Kidney']['Time'],dynamic_leakage['Kidney']['Pressure(bar)'].rolling(window=10).mean(),'tab:cyan',alpha=0.5,label='Kidney 0.5 mm clearance')\n",
    "plt.plot(dynamic_leakage['Circle']['Time'],dynamic_leakage['Circle']['Pressure(bar)'].rolling(window=10).mean(),'0.8', alpha=0.5 ,label='Circle 0.5 mm clearance', linestyle='dotted',linewidth=3)   \n",
    "plt.plot(dynamic_leakage['Stadium_lc']['Time'],dynamic_leakage['Stadium_lc']['Pressure(bar)'].rolling(window=10).mean(),'tab:olive',label='Stadium 0.2 mm clearance',linestyle='dashdot', linewidth=2)   \n",
    "plt.plot(dynamic_leakage['Kidney_lc']['Time'],dynamic_leakage['Kidney_lc']['Pressure(bar)'].rolling(window=10).mean(),'tab:cyan',label='Kidney 0.2 mm clearance', linewidth=2)\n",
    "\n",
    "# Set the labels and save the figure\n",
    "plt.xlabel('Time (s)')\n",
    "plt.ylabel('Pressure (MPa)')\n",
    "plt.legend(loc='lower center',bbox_to_anchor=(0.5,-0.42),ncol=2)\n",
    "plt.savefig('./figures/app_dynamic_leakage_shapes_lc.pdf',bbox_inches = 'tight')\n",
    "plt.clf()"
   ]
  },
  {
   "cell_type": "markdown",
   "id": "5dda9231",
   "metadata": {},
   "source": [
    "# Repeatablilty"
   ]
  },
  {
   "cell_type": "markdown",
   "id": "123b55dd",
   "metadata": {},
   "source": [
    "We performed two repeatability tests\n",
    "- The test was rerun without any changes in the connections (rerun)\n",
    "- The model was reconnected prior to taking the tests (reconnected)"
   ]
  },
  {
   "cell_type": "markdown",
   "id": "7d9ba07b",
   "metadata": {},
   "source": [
    "### Rerun"
   ]
  },
  {
   "cell_type": "code",
   "execution_count": 10,
   "id": "02d09799",
   "metadata": {},
   "outputs": [],
   "source": [
    "# The position in the piston where the pressure is compared (in mm), different to initial setup\n",
    "# Each number stands for the specific repeated test\n",
    "alpha = {\n",
    "    1: 38.5,\n",
    "    2: 35.5,\n",
    "    3: 35.5\n",
    "}"
   ]
  },
  {
   "cell_type": "code",
   "execution_count": 11,
   "id": "5dd60f31",
   "metadata": {},
   "outputs": [],
   "source": [
    "# Store repeatability data in a dictionary\n",
    "dynamic_rerun = {}\n",
    "\n",
    "# Iterate all 3 repeated tests and add them to the dictionary\n",
    "for test in alpha.keys():\n",
    "    # Load the data of the corresponding results in .CSV and drop unncessary columns\n",
    "    test_df = pd.read_csv(f'./data/repeatability/rerun/dynamic/{test}_O-ring257.csv',delimiter='\\s+',header=None,names=(['Time','A','B','C','Laser(mm)','Pressure(bar)','Force(N)']))\n",
    "    test_df.drop(columns=['A','B','C'],index=test_df.index[range(drop_amount)],axis=1,inplace=True)\n",
    "    \n",
    "    # Selecting the data points around the chosen position with the chosen margin\n",
    "    test_df = test_df[(test_df['Laser(mm)'] > (alpha[test]-margin)) & (test_df['Laser(mm)'] < (alpha[test]+margin))]\n",
    "\n",
    "    # Store the data in the dictionary\n",
    "    dynamic_rerun[test] = {}\n",
    "    # Set the time (in s)\n",
    "    dynamic_rerun[test]['Time'] = test_df['Time']/1000\n",
    "    dynamic_rerun[test]['Laser(mm)'] = test_df['Laser(mm)']\n",
    "    # Set the pressure (in MPa)dynamic_rerun[test] = {}\n",
    "    dynamic_rerun[test]['Pressure(bar)'] = test_df['Pressure(bar)']/10\n"
   ]
  },
  {
   "cell_type": "code",
   "execution_count": 12,
   "id": "d1091ce0",
   "metadata": {
    "scrolled": false
   },
   "outputs": [
    {
     "data": {
      "text/plain": [
       "<Figure size 432x288 with 0 Axes>"
      ]
     },
     "metadata": {},
     "output_type": "display_data"
    }
   ],
   "source": [
    "# To smoothen out the lines a sampling [::4] and a rolling window of 10 are applied\n",
    "plt.plot(dynamic_leakage['O-ring']['Time'][::4],dynamic_leakage['O-ring']['Pressure(bar)'].rolling(window=10).mean()[::4],'tab:grey', alpha=0.25, linestyle='dotted',linewidth=3)\n",
    "plt.plot(dynamic_leakage['NAPN']['Time'][::4],dynamic_leakage['NAPN']['Pressure(bar)'].rolling(window=10).mean()[::4],'tab:grey',alpha=0.25,linestyle='dashdot')\n",
    "plt.plot(dynamic_leakage['NAP310']['Time'][::4],dynamic_leakage['NAP310']['Pressure(bar)'].rolling(window=10).mean()[::4],'tab:grey',alpha=0.25, linestyle=(0,(5,2,2)))\n",
    "plt.plot(dynamic_leakage['PK']['Time'][::4],dynamic_leakage['PK']['Pressure(bar)'].rolling(window=10).mean()[::4],'tab:grey',alpha=0.25,linestyle='dashed')\n",
    "plt.plot(dynamic_leakage['KDN']['Time'][::4],dynamic_leakage['KDN']['Pressure(bar)'].rolling(window=10).mean()[::4],'tab:grey',alpha=0.25)\n",
    "plt.plot(dynamic_leakage['O-ring257']['Time'][::4],dynamic_leakage['O-ring257']['Pressure(bar)'].rolling(window=10).mean()[::4],'tab:grey',alpha=0.25, linestyle='dotted',linewidth=3)  \n",
    "plt.plot(dynamic_leakage['X-ring257']['Time'][::4],dynamic_leakage['X-ring257']['Pressure(bar)'].rolling(window=10).mean()[::4],'tab:grey',alpha=0.25, linestyle=(0,(5,2,2)))\n",
    "plt.plot(dynamic_rerun[1]['Time'][::4],dynamic_rerun[1]['Pressure(bar)'].rolling(window=10).mean()[::4],'red',label='Test 1',linewidth=2)\n",
    "plt.plot(dynamic_rerun[2]['Time'][::4],dynamic_rerun[2]['Pressure(bar)'].rolling(window=10).mean()[::4],'firebrick',label='Test 2',linewidth=2)\n",
    "plt.plot(dynamic_rerun[3]['Time'][::4],dynamic_rerun[3]['Pressure(bar)'].rolling(window=10).mean()[::4],'darkred',label='Test 3',linewidth=2)\n",
    "\n",
    "# Set the labels and save the figure\n",
    "plt.xlabel('Time (s)')\n",
    "plt.ylabel('Pressure (MPa)')\n",
    "plt.legend()\n",
    "plt.savefig('./figures/app_dynamic_leakage_rerun.pdf',bbox_inches = 'tight')\n",
    "plt.clf()"
   ]
  },
  {
   "cell_type": "markdown",
   "id": "d9c43613",
   "metadata": {},
   "source": [
    "### Reconnected"
   ]
  },
  {
   "cell_type": "code",
   "execution_count": 13,
   "id": "18ae299a",
   "metadata": {},
   "outputs": [],
   "source": [
    "# The position in the piston where the pressure is compared (in mm), different to initial setup\n",
    "# Each number stands for the specific repeated test\n",
    "alpha = {\n",
    "    1: 37.7,\n",
    "    2: 35.5,\n",
    "    3: 38.5\n",
    "}"
   ]
  },
  {
   "cell_type": "code",
   "execution_count": 14,
   "id": "730527be",
   "metadata": {},
   "outputs": [],
   "source": [
    "# Store repeatability data in a dictionary\n",
    "dynamic_reconnected = {}\n",
    "\n",
    "# Iterate all 3 repeated tests and add them to the dictionary\n",
    "for test in range(1,4):\n",
    "    # Load the data of the corresponding results in .CSV and drop unncessary columns\n",
    "    test_df = pd.read_csv(f'./data/repeatability/reconnected/dynamic/{test}_O-ring257.csv',delimiter='\\s+',header=None,names=(['Time','A','B','C','Laser(mm)','Pressure(bar)','Force(N)']))\n",
    "    test_df.drop(columns=['A','B','C'],index=test_df.index[range(drop_amount)],axis=1,inplace=True)\n",
    "    \n",
    "    # Selecting the data points around the chosen position with the chosen margin\n",
    "    test_df = test_df[(test_df['Laser(mm)'] > (alpha[test]-margin)) & (test_df['Laser(mm)'] < (alpha[test]+margin))]\n",
    "\n",
    "    # Store the data in the dictionary\n",
    "    dynamic_reconnected[test] = {}\n",
    "    # Set the time (in s)\n",
    "    dynamic_reconnected[test]['Time'] = test_df['Time']/1000\n",
    "    dynamic_reconnected[test]['Laser(mm)'] = test_df['Laser(mm)']\n",
    "    # Set the pressure (in MPa)\n",
    "    dynamic_reconnected[test]['Pressure(bar)'] = test_df['Pressure(bar)']/10\n"
   ]
  },
  {
   "cell_type": "code",
   "execution_count": 15,
   "id": "43e00d3d",
   "metadata": {},
   "outputs": [
    {
     "data": {
      "text/plain": [
       "<Figure size 432x288 with 0 Axes>"
      ]
     },
     "metadata": {},
     "output_type": "display_data"
    }
   ],
   "source": [
    "# To smoothen out the lines a sampling [::4] and a rolling window of 10 are applied\n",
    "plt.plot(dynamic_leakage['O-ring']['Time'][::4],dynamic_leakage['O-ring']['Pressure(bar)'].rolling(window=10).mean()[::4],'tab:grey', alpha=0.25, linestyle='dotted',linewidth=3)\n",
    "plt.plot(dynamic_leakage['NAPN']['Time'][::4],dynamic_leakage['NAPN']['Pressure(bar)'].rolling(window=10).mean()[::4],'tab:grey',alpha=0.25,linestyle='dashdot')\n",
    "plt.plot(dynamic_leakage['NAP310']['Time'][::4],dynamic_leakage['NAP310']['Pressure(bar)'].rolling(window=10).mean()[::4],'tab:grey',alpha=0.25, linestyle=(0,(5,2,2)))\n",
    "plt.plot(dynamic_leakage['PK']['Time'][::4],dynamic_leakage['PK']['Pressure(bar)'].rolling(window=10).mean()[::4],'tab:grey',alpha=0.25,linestyle='dashed')\n",
    "plt.plot(dynamic_leakage['KDN']['Time'][::4],dynamic_leakage['KDN']['Pressure(bar)'].rolling(window=10).mean()[::4],'tab:grey',alpha=0.25)\n",
    "plt.plot(dynamic_leakage['O-ring257']['Time'][::4],dynamic_leakage['O-ring257']['Pressure(bar)'].rolling(window=10).mean()[::4],'tab:grey',alpha=0.25, linestyle='dotted',linewidth=3)  \n",
    "plt.plot(dynamic_leakage['X-ring257']['Time'][::4],dynamic_leakage['X-ring257']['Pressure(bar)'].rolling(window=10).mean()[::4],'tab:grey',alpha=0.25, linestyle=(0,(5,2,2)))\n",
    "plt.plot(dynamic_reconnected[1]['Time'][::4],dynamic_reconnected[1]['Pressure(bar)'].rolling(window=10).mean()[::4],'skyblue',label='Test 1',linewidth=2)\n",
    "plt.plot(dynamic_reconnected[2]['Time'][::4],dynamic_reconnected[2]['Pressure(bar)'].rolling(window=10).mean()[::4],'cornflowerblue',label='Test 2',linewidth=2)\n",
    "plt.plot(dynamic_reconnected[3]['Time'][::4],dynamic_reconnected[3]['Pressure(bar)'].rolling(window=10).mean()[::4],'steelblue',label='Test 3',linewidth=2)\n",
    "\n",
    "# Set the labels and save the figure\n",
    "plt.xlabel('Time (s)')\n",
    "plt.ylabel('Pressure (MPa)')\n",
    "plt.legend()\n",
    "plt.savefig('./figures/app_dynamic_leakage_reconnected.pdf',bbox_inches = 'tight')\n",
    "plt.clf()"
   ]
  }
 ],
 "metadata": {
  "kernelspec": {
   "display_name": "Python 3",
   "language": "python",
   "name": "python3"
  },
  "language_info": {
   "codemirror_mode": {
    "name": "ipython",
    "version": 3
   },
   "file_extension": ".py",
   "mimetype": "text/x-python",
   "name": "python",
   "nbconvert_exporter": "python",
   "pygments_lexer": "ipython3",
   "version": "3.8.2"
  }
 },
 "nbformat": 4,
 "nbformat_minor": 5
}

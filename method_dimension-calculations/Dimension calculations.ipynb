{
 "cells": [
  {
   "cell_type": "code",
   "execution_count": 1,
   "id": "99e8cd8f",
   "metadata": {},
   "outputs": [],
   "source": [
    "#!/usr/bin/env python\n",
    "# -*- coding: utf-8 -*-\n",
    "\n",
    "\"\"\"\n",
    "In this script, the variable dimensions of our models are determined. \n",
    "In the first part we calculate the piston sealing grooves. \n",
    "Secondly, the dimensions of the non-circular shapes are determined.\n",
    "\"\"\"\n",
    "\n",
    "__author__ = \"Eva Zillen\"\n",
    "__copyright__ = \"Copyright 2021, TU Delft Biomechanical Design\"\n",
    "__credits__ = [\"Eva Zillen, Heike Vallery, Gerwin Smit\"]\n",
    "__license__ = \"CC0-1.0 License\"\n",
    "__version__ = \"1.0.0\"\n",
    "__maintainer__ = \"Eva Zillen\"\n",
    "__email__ = \"e.zillen@student.tudelft.nl\""
   ]
  },
  {
   "cell_type": "markdown",
   "id": "colored-parks",
   "metadata": {},
   "source": [
    "# Definitions"
   ]
  },
  {
   "cell_type": "markdown",
   "id": "dominant-trout",
   "metadata": {},
   "source": [
    "## Imports"
   ]
  },
  {
   "cell_type": "code",
   "execution_count": 2,
   "id": "private-algebra",
   "metadata": {},
   "outputs": [],
   "source": [
    "import numpy as np\n",
    "import math\n",
    "from sympy import symbols, Eq, solve, pi"
   ]
  },
  {
   "cell_type": "markdown",
   "id": "civil-construction",
   "metadata": {},
   "source": [
    "## Functions"
   ]
  },
  {
   "cell_type": "code",
   "execution_count": 3,
   "id": "258499b5",
   "metadata": {},
   "outputs": [],
   "source": [
    "def calculate_groove(ID,S,r_sq,C):\n",
    "    # Determine the outer diameter of the O-ring\n",
    "    OD = ID+2*S\n",
    "    # Determine the squeeze dimension of the O-ring\n",
    "    S_sq = S * (1 - r_sq)\n",
    "    # Determine the pison groove diameter\n",
    "    D_PG = OD - 2 * S_sq\n",
    "    # Set the width of the piston groove\n",
    "    W_PG = S + 1\n",
    "    # Determine the piston diameter\n",
    "    P_D = OD - 2 * C\n",
    "    return f'\\nOuter diameter O-ring: {OD} mm \\nPiston diameter: {P_D} mm \\nPiston groove diameter: {D_PG} mm \\nWidth piston groove: {round(W_PG,2)} mm\\n'"
   ]
  },
  {
   "cell_type": "markdown",
   "id": "df7e4e82",
   "metadata": {},
   "source": [
    "# Determining the dimensions of the O-ring groove "
   ]
  },
  {
   "cell_type": "markdown",
   "id": "stock-violin",
   "metadata": {},
   "source": [
    "#### O-ring Lidl, SLA print"
   ]
  },
  {
   "cell_type": "code",
   "execution_count": 4,
   "id": "indirect-bible",
   "metadata": {},
   "outputs": [
    {
     "name": "stdout",
     "output_type": "stream",
     "text": [
      "O-ring Lidl, 18*3.5\n",
      "\n",
      "Outer diameter O-ring: 25.0 mm \n",
      "Piston diameter: 24.0 mm \n",
      "Piston groove diameter: 18.7 mm \n",
      "Width piston groove: 4.5 mm\n",
      "\n"
     ]
    }
   ],
   "source": [
    "# The O-ring used had the dimensions (18x3.5)\n",
    "ID = 18\n",
    "S = 3.5\n",
    "# A clearance of 0.5 mm was used between the piston and the cylinder\n",
    "C = 0.5\n",
    "# 10% squeeze ration was used in this study\n",
    "r_sq = 0.1 \n",
    "\n",
    "print (\"O-ring Lidl, 18*3.5\")\n",
    "print(calculate_groove(ID,S,r_sq,C))"
   ]
  },
  {
   "cell_type": "markdown",
   "id": "moderate-albania",
   "metadata": {},
   "source": [
    "#### O-ring en X-ring Eriks"
   ]
  },
  {
   "cell_type": "code",
   "execution_count": 5,
   "id": "regulated-slope",
   "metadata": {
    "scrolled": false
   },
   "outputs": [
    {
     "name": "stdout",
     "output_type": "stream",
     "text": [
      "O-ring en X-ring Eriks, 18.64*3.53\n",
      "\n",
      "Outer diameter O-ring: 25.7 mm \n",
      "Piston diameter: 24.7 mm \n",
      "Piston groove diameter: 19.346 mm \n",
      "Width piston groove: 4.53 mm\n",
      "\n"
     ]
    }
   ],
   "source": [
    "# The O-ring used had the dimensions (18.64x3.53)\n",
    "ID = 18.64\n",
    "S = 3.53\n",
    "# A clearance of 0.5 mm was used between the piston and the cylinder\n",
    "C = 0.5\n",
    "# 10% squeeze ration was used in this study\n",
    "r_sq = 0.1\n",
    "\n",
    "print (\"O-ring en X-ring Eriks, 18.64*3.53\") \n",
    "print(calculate_groove(ID,S,r_sq,C))"
   ]
  },
  {
   "cell_type": "markdown",
   "id": "0c557e98",
   "metadata": {},
   "source": [
    "# Determining the dimensions of the non-conventional cylinders"
   ]
  },
  {
   "cell_type": "markdown",
   "id": "7c455250",
   "metadata": {},
   "source": [
    "### Stadium shape"
   ]
  },
  {
   "cell_type": "code",
   "execution_count": 6,
   "id": "21bd8838",
   "metadata": {},
   "outputs": [],
   "source": [
    "def stadium(ID,S):    \n",
    "    # Variables defining the stadium shape (see Figure 2 in report)\n",
    "    L = symbols('L')\n",
    "    D = 0\n",
    "    \n",
    "    # Target area - the area of the circular shape with diameter = 25 mm\n",
    "    A_target = math.pi * (25/2)**2 \n",
    "    # Determine the outer diameter of the O-ring\n",
    "    OD = ID + 2 * S\n",
    "    # Determine the perimeter of the O-ring\n",
    "    P_c = math.pi * OD\n",
    "    \n",
    "    # Variable necessary to perform the optimization\n",
    "    A_s = 0\n",
    "    \n",
    "    # To find the variables D & L we use for the stadium surface area (A_s) and the perimeter (P_s) equations\n",
    "    # Optimization is done by varying D and finding corresponding L\n",
    "    for D_optimize in np.arange(5,20,0.1):\n",
    "        # Variables necessary for optimization, to remember the previous values\n",
    "        previous_A_s = A_s\n",
    "        previous_L = L\n",
    "        previous_D = D\n",
    "        \n",
    "        # L is reset each round, define it again\n",
    "        L = symbols('L')\n",
    "        \n",
    "        # Rounding necessary for limitations on floating point numbers in Python\n",
    "        D = round(D_optimize,2)\n",
    "\n",
    "        # Solve for the perimeter\n",
    "        P_s_eq = (math.pi * D) + 2 * L - P_c\n",
    "        result = solve((P_s_eq), (L))\n",
    "\n",
    "        # Solving returns a list, L is the only value in this list\n",
    "        L = result[0]\n",
    "        \n",
    "        # Applying the equation for the surface area\n",
    "        A_s = math.pi * (D/2)**2 + L * D\n",
    "        \n",
    "        # Finding the right value: if the surface area is larger than the target area, take the previous and continue\n",
    "        if previous_A_s <= A_target and A_s >= A_target:\n",
    "            print(f\"Optimizing found: \\narea = {previous_A_s} with D = {previous_D} and L = {previous_L} is closest to the target surface area of {A_target}\")\n",
    "            break\n",
    "            \n",
    "    return previous_D,previous_L\n"
   ]
  },
  {
   "cell_type": "code",
   "execution_count": 7,
   "id": "c768e6c7",
   "metadata": {
    "scrolled": true
   },
   "outputs": [
    {
     "name": "stdout",
     "output_type": "stream",
     "text": [
      "Optimizing found: \n",
      "area = 490.803166288700 with D = 14.3 and L = 23.0907060038850 is closest to the target surface area of 490.8738521234052\n",
      "\n",
      "--------------------------------------\n",
      "Resulting values for an stadium shape with O-ring of 22 x 3.5 mm\n",
      "D = 14.3 mm\n",
      "L = 23.0907060038850 mm\n",
      "--------------------------------------\n"
     ]
    }
   ],
   "source": [
    "# Example calculations for an O-ring of 22x3.5mm\n",
    "ID = 22\n",
    "S = 3.5\n",
    "D, L = stadium(ID,S)\n",
    "print(f\"\\n--------------------------------------\")\n",
    "print(f\"Resulting values for an stadium shape with O-ring of {ID} x {S} mm\")\n",
    "print(f\"D = {D} mm\")\n",
    "print(f\"L = {L} mm\")\n",
    "print(f\"--------------------------------------\")"
   ]
  },
  {
   "cell_type": "markdown",
   "id": "df23c3d3",
   "metadata": {},
   "source": [
    "### Kidney shape"
   ]
  },
  {
   "cell_type": "code",
   "execution_count": 8,
   "id": "02836d57",
   "metadata": {
    "scrolled": true
   },
   "outputs": [],
   "source": [
    "def optimize_range(ID, S, h):\n",
    "    # Variables defining the kidney shape (see Figure 2 in report)\n",
    "    r = symbols('r')\n",
    "    a = 0\n",
    "        \n",
    "    # Target area - the area of the circular shape with diameter = 25 mm\n",
    "    A_target = math.pi*(25/2)**2 \n",
    "    # Determine the outer diameter of the O-ring\n",
    "    OD = ID+2*S\n",
    "    # Determine the perimeter of the O-ring\n",
    "    P_c = math.pi*OD\n",
    "    \n",
    "    # Variable necessary to perform the optimization\n",
    "    A_k = 0\n",
    "    \n",
    "    # To find the variables r & a we use the stadium surface area (A_k) and the perimeter (P_k) equations\n",
    "    # Optimization is done by varying a and finding corresponding r\n",
    "    for a_optimize in np.arange(5,20,0.1):\n",
    "        # Variables necessary for optimization, to remember the previous values\n",
    "        previous_A_k = A_k\n",
    "        previous_r = r\n",
    "        previous_a = a\n",
    "        \n",
    "        # L is reset each round, define it again\n",
    "        r = symbols('r')\n",
    "        \n",
    "        # Rounding necessary for limitations on floating point numbers in Python\n",
    "        a = round(a_optimize,2)\n",
    "\n",
    "        # Solve for the perimeter\n",
    "        P_k_eq = math.pi* a +(gamma*(2 * r + a)) - P_c\n",
    "        result = solve((P_k_eq), (r))\n",
    "\n",
    "        # Solving returns a list, L is the only value in this list\n",
    "        r = result[0]\n",
    "\n",
    "        # Applying the equation for the surface area\n",
    "        A_k = math.pi * (a / 2)**2 + (gamma * (r * a + (a**2 / 2)))\n",
    "        \n",
    "        # Finding the right value: if the surface area is larger than the target area, take the previous and continue\n",
    "        if previous_A_k <= A_target and A_k >= A_target:\n",
    "            print(f\"Optimizing found:\\narea = {previous_A_k} with a = {previous_a} and r = {previous_r} is closest to the target surface area of {A_target}\")\n",
    "            break\n",
    "            \n",
    "    return previous_a,previous_r"
   ]
  },
  {
   "cell_type": "code",
   "execution_count": 9,
   "id": "de4a181d",
   "metadata": {},
   "outputs": [
    {
     "name": "stdout",
     "output_type": "stream",
     "text": [
      "Optimizing found:\n",
      "area = 490.803166288700 with a = 14.3 and r = 6.08000000000001 is closest to the target surface area of 490.8738521234052\n",
      "\n",
      "--------------------------------------\n",
      "Resulting values for a kidney shape with O-ring of 22 x 3.5 mm\n",
      "a = 14.3 mm\n",
      "r = 6.08000000000001 mm\n",
      "--------------------------------------\n"
     ]
    }
   ],
   "source": [
    "# Example calculations for an O-ring of 22x3.5mm\n",
    "ID = 22\n",
    "S = 3.5\n",
    "gamma = 100/180*math.pi\n",
    "\n",
    "a, r = optimize_range(ID, S, gamma)\n",
    "print(f\"\\n--------------------------------------\")\n",
    "print(f\"Resulting values for a kidney shape with O-ring of {ID} x {S} mm\")\n",
    "print(f\"a = {a} mm\")\n",
    "print(f\"r = {r} mm\")\n",
    "print(f\"--------------------------------------\")"
   ]
  }
 ],
 "metadata": {
  "kernelspec": {
   "display_name": "Python 3",
   "language": "python",
   "name": "python3"
  },
  "language_info": {
   "codemirror_mode": {
    "name": "ipython",
    "version": 3
   },
   "file_extension": ".py",
   "mimetype": "text/x-python",
   "name": "python",
   "nbconvert_exporter": "python",
   "pygments_lexer": "ipython3",
   "version": "3.8.2"
  }
 },
 "nbformat": 4,
 "nbformat_minor": 5
}

{
 "cells": [
  {
   "cell_type": "code",
   "execution_count": 1,
   "id": "04bff07e",
   "metadata": {},
   "outputs": [],
   "source": [
    "\"\"\"\n",
    "In this script, the results of the compressed-air chamber tests are visualised.\n",
    "All visualisations are stored in /figures/\n",
    "\n",
    "To show the visualisations in this Notebook, remove or comment plt.clf() after plt.savefig()\n",
    "\"\"\"\n",
    "\n",
    "__author__ = \"Eva Zillen\"\n",
    "__copyright__ = \"Copyright 2021, TU Delft Biomechanical Design\"\n",
    "__credits__ = [\"Eva Zillen, Heike Vallery, Gerwin Smit\"]\n",
    "__license__ = \"CC0-1.0 License\"\n",
    "__version__ = \"1.0.0\"\n",
    "__maintainer__ = \"Eva Zillen\"\n",
    "__email__ = \"e.zillen@student.tudelft.nl\""
   ]
  },
  {
   "cell_type": "markdown",
   "id": "e7c9d9b1",
   "metadata": {},
   "source": [
    "#### Imports"
   ]
  },
  {
   "cell_type": "code",
   "execution_count": 2,
   "id": "b495213a",
   "metadata": {},
   "outputs": [],
   "source": [
    "import math\n",
    "import pandas as pd\n",
    "import matplotlib.pyplot as plt\n",
    "import numpy as np"
   ]
  },
  {
   "cell_type": "markdown",
   "id": "422899d5",
   "metadata": {},
   "source": [
    "#### Global variables"
   ]
  },
  {
   "cell_type": "code",
   "execution_count": 3,
   "id": "b1c62227",
   "metadata": {},
   "outputs": [],
   "source": [
    "# The types of additive manufacturing used in this test\n",
    "models = ['Aluminium','Prusa','Formlabs','Ultimaker_006','Ultimaker_010','Ultimaker_015','Ultimaker_020']"
   ]
  },
  {
   "cell_type": "markdown",
   "id": "138b68ad",
   "metadata": {},
   "source": [
    "## Compressed air chamber test"
   ]
  },
  {
   "cell_type": "code",
   "execution_count": 4,
   "id": "7c42c79a",
   "metadata": {},
   "outputs": [
    {
     "name": "stderr",
     "output_type": "stream",
     "text": [
      "<ipython-input-4-8534a57f8758>:14: FutureWarning: The default value of regex will change from True to False in a future version. In addition, single character regular expressions will*not* be treated as literal strings when regex=True.\n",
      "  air_chambers[model]['Time'] = model_df['Time'].str.replace('.','').astype('float64')/1000000\n"
     ]
    }
   ],
   "source": [
    "# Define a dictionary to store all data from the air chamber tests\n",
    "# For each ring all variables are stored in this nested dictionary\n",
    "air_chambers = {}\n",
    "\n",
    "# For each model type\n",
    "for model in models:\n",
    "    # Load the data of the corresponding results in .CSV and drop unnecessary columns\n",
    "    model_df = pd.read_csv(f'./data/{model}.csv',delimiter=';',header=None,names=(['Time','A','Pressure']))\n",
    "    model_df.drop(columns=['A'],axis=1,inplace=True)\n",
    "    \n",
    "    # Store the data in our larger dictionary\n",
    "    air_chambers[model]={}\n",
    "    # Filtering the time data (in s)\n",
    "    air_chambers[model]['Time'] = model_df['Time'].str.replace('.','').astype('float64')/1000000\n",
    "    # For all models limit the time (in s) and pressure (in MPa) to the same amount \n",
    "    air_chambers[model]['Time'] = air_chambers[model]['Time'].head(1400)\n",
    "    air_chambers[model]['Pressure'] = model_df['Pressure'].head(1400)/10\n",
    "    \n",
    "    # Define the pressure drop by reducing all pressures with the first measures pressure (in MPa)\n",
    "    air_chambers[model]['PressureDrop'] = air_chambers[model]['Pressure'] - air_chambers[model]['Pressure'][0]"
   ]
  },
  {
   "cell_type": "markdown",
   "id": "9ede6c43",
   "metadata": {},
   "source": [
    "#### All models with their pressure drop (in MPa) over time (in s)"
   ]
  },
  {
   "cell_type": "code",
   "execution_count": 5,
   "id": "d7a644a4",
   "metadata": {},
   "outputs": [
    {
     "data": {
      "text/plain": [
       "<Figure size 432x288 with 0 Axes>"
      ]
     },
     "metadata": {},
     "output_type": "display_data"
    }
   ],
   "source": [
    "plt.plot(air_chambers['Aluminium']['Time'],air_chambers['Aluminium']['PressureDrop'],'black', label='Aluminium', linestyle=(0,(1,1,1)),linewidth=2)\n",
    "plt.plot(air_chambers['Prusa']['Time'],air_chambers['Prusa']['PressureDrop'],'tab:orange', label='SLA Prusa', linestyle='dashdot')\n",
    "plt.plot(air_chambers['Formlabs']['Time'],air_chambers['Formlabs']['PressureDrop'],'tab:green', label='SLA Formlabs', linestyle='dotted',linewidth=3)\n",
    "plt.plot(air_chambers['Ultimaker_006']['Time'],air_chambers['Ultimaker_006']['PressureDrop'],'tab:red',label='Ultimaker 0.06 mm')\n",
    "plt.plot(air_chambers['Ultimaker_010']['Time'],air_chambers['Ultimaker_010']['PressureDrop'],'tab:purple',label='Ultimaker 0.10 mm', linestyle='dashed')\n",
    "plt.plot(air_chambers['Ultimaker_015']['Time'],air_chambers['Ultimaker_015']['PressureDrop'],'tab:blue',label='Ultimaker 0.15 mm', linestyle=(0,(10,2,2)))  \n",
    "plt.plot(air_chambers['Ultimaker_020']['Time'],air_chambers['Ultimaker_020']['PressureDrop'],'tab:brown',label='Ultimaker 0.20 mm', linestyle=(0,(5,2,2)))\n",
    "\n",
    "# Set the labels and save the figure\n",
    "plt.legend()\n",
    "plt.xlabel('Time (s)')\n",
    "plt.ylabel('Pressure drop (MPa)')\n",
    "plt.savefig('./figures/result_airchamber.pdf',bbox_inches = 'tight')\n",
    "plt.clf()"
   ]
  },
  {
   "cell_type": "markdown",
   "id": "d1d3fa20",
   "metadata": {},
   "source": [
    "#### Models with their pressure drop (in MPa) over time (in s) (excluding Ultimaker 0.15 mm and 0.20 mm)"
   ]
  },
  {
   "cell_type": "code",
   "execution_count": 6,
   "id": "9c99de8f",
   "metadata": {},
   "outputs": [
    {
     "data": {
      "text/plain": [
       "<Figure size 432x288 with 0 Axes>"
      ]
     },
     "metadata": {},
     "output_type": "display_data"
    }
   ],
   "source": [
    "# To smoothen out the lines a sampling [::4] and a rolling window of 20 are applied\n",
    "plt.plot(air_chambers['Aluminium']['Time'][::4],air_chambers['Aluminium']['PressureDrop'].rolling(window=20).mean()[::4],'black', label='Aluminium', linestyle=(0,(1,1,1)),linewidth=2)\n",
    "plt.plot(air_chambers['Prusa']['Time'][::4],air_chambers['Prusa']['PressureDrop'].rolling(window=20).mean()[::4],'tab:orange', label='SLA Prusa', linestyle='dashdot')\n",
    "plt.plot(air_chambers['Formlabs']['Time'][::4],air_chambers['Formlabs']['PressureDrop'].rolling(window=20).mean()[::4],'tab:green', label='SLA Formlabs', linestyle='dotted',linewidth=3)\n",
    "plt.plot(air_chambers['Ultimaker_006']['Time'][::4],air_chambers['Ultimaker_006']['PressureDrop'].rolling(window=20).mean()[::4],'tab:red',label='Ultimaker 0.06 mm')\n",
    "plt.plot(air_chambers['Ultimaker_010']['Time'][::4],air_chambers['Ultimaker_010']['PressureDrop'].rolling(window=20).mean()[::4],'tab:purple',label='Ultimaker 0.10 mm', linestyle='dashed')\n",
    "    \n",
    "# Set the labels and save the figure\n",
    "plt.legend()\n",
    "plt.xlabel('Time (s)')\n",
    "plt.ylabel('Pressure drop (MPa)')\n",
    "plt.savefig('./figures/result_airchamber_part.pdf',bbox_inches = 'tight')\n",
    "plt.clf()"
   ]
  },
  {
   "cell_type": "markdown",
   "id": "c52e925d",
   "metadata": {},
   "source": [
    "# Repeatability"
   ]
  },
  {
   "cell_type": "markdown",
   "id": "01caefcc",
   "metadata": {},
   "source": [
    "We performed two repeatability tests\n",
    "- The test was rerun without any changes in the connections (rerun)\n",
    "- The model was reconnected prior to taking the tests (reconnected)"
   ]
  },
  {
   "cell_type": "markdown",
   "id": "08c1cc81",
   "metadata": {},
   "source": [
    "### Rerun"
   ]
  },
  {
   "cell_type": "code",
   "execution_count": 7,
   "id": "fd987690",
   "metadata": {},
   "outputs": [],
   "source": [
    "# Load the data for the rerun repeatability test\n",
    "test_rerun=pd.read_csv(r'data/Resultaten_opnieuwaanzetten.csv', delimiter=\";\", header=1, names=(['Time',\"Test1\",\"Test2\",\"Test3\",'Aluminium','G','SLA Prusa','SLA Formlabs','Ultimaker 0.10']))\n",
    "\n",
    "# Apply a rolling window for each type of additive manufacturing and convert pressure data to MPa\n",
    "for model in list(test_rerun.keys())[1:]:\n",
    "    test_rerun[model]=test_rerun[model].rolling(window=20).mean()/1000\n",
    "    \n",
    "# Format the time accordingly\n",
    "tr = np.arange(0, len(test_rerun[\"Time\"])/10, 0.1)"
   ]
  },
  {
   "cell_type": "code",
   "execution_count": 8,
   "id": "d68fb333",
   "metadata": {},
   "outputs": [
    {
     "data": {
      "text/plain": [
       "<Figure size 432x288 with 0 Axes>"
      ]
     },
     "metadata": {},
     "output_type": "display_data"
    }
   ],
   "source": [
    "# Visualize the rerun repeatability test\n",
    "plt.plot(tr,test_rerun['Aluminium'], color = 'tab:grey',alpha=0.25, linestyle=(0,(1,1,1)),linewidth=2)\n",
    "plt.plot(tr,test_rerun['SLA Prusa'], color = 'tab:grey',alpha=0.25, linestyle='dashdot')\n",
    "plt.plot(tr,test_rerun['SLA Formlabs'], color = 'tab:grey',alpha=0.25, linestyle='dotted',linewidth=3)\n",
    "plt.plot(tr,test_rerun['Ultimaker 0.10'],color = 'tab:grey',alpha=0.25, linestyle='dashed')\n",
    "plt.plot(tr,test_rerun['Test1'],'red', label='Test 1')\n",
    "plt.plot(tr,test_rerun['Test2'], color ='firebrick',label='Test 2')\n",
    "plt.plot(tr,test_rerun['Test3'], color = 'darkred', label='Test 3')\n",
    "\n",
    "plt.xlabel('Time (s)')\n",
    "plt.ylabel('Pressure drop (MPa)')\n",
    "plt.legend(loc=3)\n",
    "plt.savefig('./figures/app_airchamber_rerun.pdf',bbox_inches = 'tight')\n",
    "plt.clf()"
   ]
  },
  {
   "cell_type": "markdown",
   "id": "15c83427",
   "metadata": {},
   "source": [
    "### Reconnected"
   ]
  },
  {
   "cell_type": "code",
   "execution_count": 9,
   "id": "a06ea124",
   "metadata": {},
   "outputs": [],
   "source": [
    "# Load the data for the reconnected repeatability test\n",
    "test_reconnected=pd.read_csv(r'data/Resultaten_In_en_uit_elkaar_deel.csv', delimiter=\";\", header=1, names=(['Time',\"Test1\",\"Test2\",\"Test3\",'Aluminium','G','SLA Prusa','SLA Formlabs','Ultimaker 0.10']))\n",
    "\n",
    "# Apply a rolling window for each type of additive manufacturing and convert pressure data to MPa\n",
    "for model in list(test_reconnected.keys())[1:]:\n",
    "    test_reconnected[model]=test_reconnected[model].rolling(window=20).mean()/1000\n",
    "    \n",
    "# Format the time accordingly\n",
    "tr = np.arange(0, len(test_reconnected[\"Time\"])/10, 0.1)"
   ]
  },
  {
   "cell_type": "code",
   "execution_count": 10,
   "id": "6fa0a9c5",
   "metadata": {},
   "outputs": [
    {
     "data": {
      "text/plain": [
       "<Figure size 432x288 with 0 Axes>"
      ]
     },
     "metadata": {},
     "output_type": "display_data"
    }
   ],
   "source": [
    "# Visualize the reconnected repeatability test\n",
    "plt.plot(tr,test_reconnected['Aluminium'], color = 'tab:grey',alpha=0.25, linestyle=(0,(1,1,1)),linewidth=2)\n",
    "plt.plot(tr,test_reconnected['SLA Prusa'], color = 'tab:grey',alpha=0.25, linestyle='dashdot')\n",
    "plt.plot(tr,test_reconnected['SLA Formlabs'], color = 'tab:grey',alpha=0.25, linestyle='dotted',linewidth=3)\n",
    "plt.plot(tr,test_reconnected['Ultimaker 0.10'],color = 'tab:grey',alpha=0.25, linestyle='dashed')\n",
    "plt.plot(tr,test_reconnected['Test1'], color = 'skyblue', label='Test 1')\n",
    "plt.plot(tr,test_reconnected['Test2'], color ='cornflowerblue',label='Test 2')\n",
    "plt.plot(tr,test_reconnected['Test3'], color = 'steelblue', label='Test 3')\n",
    "\n",
    "plt.xlabel('Time (s)')\n",
    "plt.ylabel('Pressure drop (MPa)')\n",
    "plt.legend(loc=3)\n",
    "plt.savefig('./figures/app_airchamber_reconnected.pdf',bbox_inches = 'tight')\n",
    "plt.clf()"
   ]
  }
 ],
 "metadata": {
  "kernelspec": {
   "display_name": "Python 3",
   "language": "python",
   "name": "python3"
  },
  "language_info": {
   "codemirror_mode": {
    "name": "ipython",
    "version": 3
   },
   "file_extension": ".py",
   "mimetype": "text/x-python",
   "name": "python",
   "nbconvert_exporter": "python",
   "pygments_lexer": "ipython3",
   "version": "3.8.2"
  }
 },
 "nbformat": 4,
 "nbformat_minor": 5
}
